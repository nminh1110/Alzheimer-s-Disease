{
  "nbformat": 4,
  "nbformat_minor": 0,
  "metadata": {
    "colab": {
      "provenance": []
    },
    "kernelspec": {
      "name": "python3",
      "display_name": "Python 3"
    },
    "language_info": {
      "name": "python"
    }
  },
  "cells": [
    {
      "cell_type": "markdown",
      "source": [
        "# Investigating Alzheimer's Disease\n",
        "\n",
        "**Purpose:** identify risk factors and symptoms associated with Alzheimer's Disease\n",
        "\n",
        "**Outcome:** evaluate effects of Alzheimer's Disease on the lives of patients and build a model to predict the risk of having Alzheimer's Disease"
      ],
      "metadata": {
        "id": "r0R3o-v5uvaP"
      }
    },
    {
      "cell_type": "markdown",
      "source": [
        "##Data\n",
        "\n",
        "**Source:** Data is taken from a published dataset on Kaggle containing extensive health information taken from 2149 patients\n",
        "\n",
        "###**Data structure:**\n",
        "\n",
        "1. Patient information\n",
        "\n",
        "**PatientID:** Unique ID of each patient\n",
        "\n",
        "**Age:** Age in years\n",
        "\n",
        "**Gender:** Gender, with 0 representing Male and 1 representing Female\n",
        "\n",
        "**Ethnicity:** Ethnic group, with 0 representing Caucasian, 1 representing African-American, 2 representing Asian and 3 representing Other\n",
        "\n",
        "EducationLevel: Education level, with 0 representing None, 1 representing High School, 2 representing Bachelor's, 3 representing Higher\n",
        "\n",
        "2. Lifestyle factors\n",
        "\n",
        "**BMI:** Body Mass Index of each patient\n",
        "\n",
        "**Smoking:** Smoking status, with 0 representing No and 1 representing Yes\n",
        "\n",
        "**AlcoholConsumption:** Weekly alcohol consumption in units\n",
        "\n",
        "**PhysicalActivity:** Weekly physical activity in hours\n",
        "\n",
        "**DietQuality:** Diet quality score, evaluated on a scale of 10\n",
        "\n",
        "**SleepQuality:** Sleep quality score, evaluated on a scale of 10\n",
        "\n",
        "3. Medical history\n",
        "\n",
        "**FamilyHistoryAlzheimers:** Family history of Alzheimer's Disease, with 0 representing No and 1 representing Yes\n",
        "\n",
        "**CardiovascularDisease:** Presence of cardiovascular disease, with 0 representing No and 1 representing Yes\n",
        "\n",
        "**Diabetes:** Presence of diabetes, with 0 representing No and 1 representing Yes\n",
        "\n",
        "**Depression:** Presence of depression, with 0 representing No and 1 representing Yes\n",
        "\n",
        "**HeadInjury:** History of head injury, with 0 representing No and 1 representing Yes\n",
        "\n",
        "**Hypertension:** Presence of hypertension, with 0 representing No and 1 representing Yes\n",
        "\n",
        "4. Clinical measurements\n",
        "\n",
        "**SystolicBP:** Systolic blood pressure, measured in mmHg\n",
        "\n",
        "**DiastolicBP:** Diastolic blood pressure, measured in mmHg\n",
        "\n",
        "**CholesterolTotal:** Total cholesterol levels, measured in mg/dL\n",
        "\n",
        "**CholesterolLDL:** Low-density lipoprotein cholesterol levels, measured in mg/dL\n",
        "\n",
        "**CholesterolHDL:** High-density lipoprotein cholesterol levels, measured in mg/dL\n",
        "\n",
        "**CholesterolTriglycerides:** Triglycerides levels, measured in mg/dL\n",
        "\n",
        "5. Cognitive and functional assessment\n",
        "\n",
        "**MMSE:** Mini-Mental State Examination score, evaluated on a scale of 30\n",
        "\n",
        "**FunctionalAssessment:** Functional assessment score, evaluated on a scale of 10\n",
        "\n",
        "**MemoryComplaints:** Presence of memory complaints, with 0 representing No and 1 representing Yes\n",
        "\n",
        "**BehavioralProblems:** Presence of behavioral problems, with 0 representing No and 1 representing Yes\n",
        "\n",
        "**ADL:** Activities of Daily Living score, evaluated on a scale of 10\n",
        "\n",
        "6. Symptoms\n",
        "\n",
        "**Confusion:** Presence of confusion, with 0 representing No and 1 representing Yes\n",
        "\n",
        "**Disorientation:** Presence of disorientation, with 0 representing No and 1 representing Yes\n",
        "\n",
        "**PersonalityChanges:** Presence of personality changes, with 0 representing No and 1 representing Yes\n",
        "\n",
        "**DifficultyCompletingTasks:** Presence of difficulty completing tasks, with 0 representing No and 1 representing Yes\n",
        "\n",
        "**Forgetfulness:** Presence of forgetfulness, with 0 representing No and 1 representing Yes\n",
        "\n",
        "7. Others\n",
        "\n",
        "**Diagnosis:** Diagnosis status for Alzheimer's Disease, with 0 representing No and 1 representing Yes\n",
        "\n",
        "**DoctorInCharge:** The doctor in charge, with \"XXXConfid\" as the value for all patients. This is confidential information and will be excluded from analysis"
      ],
      "metadata": {
        "id": "HFJr056kvlYw"
      }
    },
    {
      "cell_type": "markdown",
      "source": [
        "##Analysis"
      ],
      "metadata": {
        "id": "MU__qFhX00oF"
      }
    },
    {
      "cell_type": "code",
      "execution_count": 1,
      "metadata": {
        "id": "QX72PalSAEGZ"
      },
      "outputs": [],
      "source": [
        "#import needed libraries\n",
        "import pandas as pd\n",
        "import statsmodels.api as sm\n",
        "import matplotlib.pyplot as plt\n",
        "import numpy as np"
      ]
    },
    {
      "cell_type": "code",
      "source": [
        "#import data\n",
        "url = 'https://docs.google.com/spreadsheets/d/' + '1o6_3mHXLJKoUKQYMthK-oJw3mDyWP4f_yUyAqjaWzus' + '/export?format=xlsx'\n",
        "data = pd.read_excel(url, sheet_name='Data')"
      ],
      "metadata": {
        "id": "jIgPI7EPBZFJ"
      },
      "execution_count": 2,
      "outputs": []
    },
    {
      "cell_type": "code",
      "source": [
        "#brief overview of data\n",
        "data.info()"
      ],
      "metadata": {
        "colab": {
          "base_uri": "https://localhost:8080/"
        },
        "id": "mFDBIxQx7waL",
        "outputId": "3c68768b-3771-46ff-d2c5-74feecc19127"
      },
      "execution_count": 3,
      "outputs": [
        {
          "output_type": "stream",
          "name": "stdout",
          "text": [
            "<class 'pandas.core.frame.DataFrame'>\n",
            "RangeIndex: 2149 entries, 0 to 2148\n",
            "Data columns (total 35 columns):\n",
            " #   Column                     Non-Null Count  Dtype  \n",
            "---  ------                     --------------  -----  \n",
            " 0   PatientID                  2149 non-null   int64  \n",
            " 1   Age                        2149 non-null   int64  \n",
            " 2   Gender                     2149 non-null   int64  \n",
            " 3   Ethnicity                  2149 non-null   int64  \n",
            " 4   EducationLevel             2149 non-null   int64  \n",
            " 5   BMI                        2149 non-null   float64\n",
            " 6   Smoking                    2149 non-null   int64  \n",
            " 7   AlcoholConsumption         2149 non-null   float64\n",
            " 8   PhysicalActivity           2149 non-null   float64\n",
            " 9   DietQuality                2149 non-null   float64\n",
            " 10  SleepQuality               2149 non-null   float64\n",
            " 11  FamilyHistoryAlzheimers    2149 non-null   int64  \n",
            " 12  CardiovascularDisease      2149 non-null   int64  \n",
            " 13  Diabetes                   2149 non-null   int64  \n",
            " 14  Depression                 2149 non-null   int64  \n",
            " 15  HeadInjury                 2149 non-null   int64  \n",
            " 16  Hypertension               2149 non-null   int64  \n",
            " 17  SystolicBP                 2149 non-null   int64  \n",
            " 18  DiastolicBP                2149 non-null   int64  \n",
            " 19  CholesterolTotal           2149 non-null   float64\n",
            " 20  CholesterolLDL             2149 non-null   float64\n",
            " 21  CholesterolHDL             2149 non-null   float64\n",
            " 22  CholesterolTriglycerides   2149 non-null   float64\n",
            " 23  MMSE                       2149 non-null   float64\n",
            " 24  FunctionalAssessment       2149 non-null   float64\n",
            " 25  MemoryComplaints           2149 non-null   int64  \n",
            " 26  BehavioralProblems         2149 non-null   int64  \n",
            " 27  ADL                        2149 non-null   float64\n",
            " 28  Confusion                  2149 non-null   int64  \n",
            " 29  Disorientation             2149 non-null   int64  \n",
            " 30  PersonalityChanges         2149 non-null   int64  \n",
            " 31  DifficultyCompletingTasks  2149 non-null   int64  \n",
            " 32  Forgetfulness              2149 non-null   int64  \n",
            " 33  Diagnosis                  2149 non-null   int64  \n",
            " 34  DoctorInCharge             2149 non-null   object \n",
            "dtypes: float64(12), int64(22), object(1)\n",
            "memory usage: 587.7+ KB\n"
          ]
        }
      ]
    },
    {
      "cell_type": "markdown",
      "source": [
        "There is no empty value in the dataset, however some categorical columns are set to numerical. The confidential column DoctorInCharge should also be deleted"
      ],
      "metadata": {
        "id": "tfSFrtr51NcK"
      }
    },
    {
      "cell_type": "code",
      "source": [
        "#fix data types and delete DoctorInCharge\n",
        "data['Gender'] = data['Gender'].astype('category')\n",
        "data['Ethnicity'] = data['Ethnicity'].astype('category')\n",
        "data['EducationLevel'] = data['EducationLevel'].astype('category')\n",
        "data['Smoking'] = data['Smoking'].astype('category')\n",
        "data['FamilyHistoryAlzheimers'] = data['FamilyHistoryAlzheimers'].astype('category')\n",
        "data['CardiovascularDisease'] = data['CardiovascularDisease'].astype('category')\n",
        "data['Diabetes'] = data['Diabetes'].astype('category')\n",
        "data['Depression'] = data['Depression'].astype('category')\n",
        "data['HeadInjury'] = data['HeadInjury'].astype('category')\n",
        "data['Hypertension'] = data['Hypertension'].astype('category')\n",
        "data['MemoryComplaints'] = data['MemoryComplaints'].astype('category')\n",
        "data['BehavioralProblems'] = data['BehavioralProblems'].astype('category')\n",
        "data['Confusion'] = data['Confusion'].astype('category')\n",
        "data['Disorientation'] = data['Disorientation'].astype('category')\n",
        "data['PersonalityChanges'] = data['PersonalityChanges'].astype('category')\n",
        "data['DifficultyCompletingTasks'] = data['DifficultyCompletingTasks'].astype('category')\n",
        "data['Forgetfulness'] = data['Forgetfulness'].astype('category')\n",
        "data['Diagnosis'] = data['Diagnosis'].astype('category')\n",
        "del data['DoctorInCharge']"
      ],
      "metadata": {
        "id": "CtXuRPZ88hDr"
      },
      "execution_count": 4,
      "outputs": []
    },
    {
      "cell_type": "code",
      "source": [
        "#check that data types are fixed\n",
        "data.info()"
      ],
      "metadata": {
        "colab": {
          "base_uri": "https://localhost:8080/"
        },
        "id": "TW8Kyj1B982L",
        "outputId": "f9483241-db44-4461-fe27-899b073b0d9d"
      },
      "execution_count": 5,
      "outputs": [
        {
          "output_type": "stream",
          "name": "stdout",
          "text": [
            "<class 'pandas.core.frame.DataFrame'>\n",
            "RangeIndex: 2149 entries, 0 to 2148\n",
            "Data columns (total 34 columns):\n",
            " #   Column                     Non-Null Count  Dtype   \n",
            "---  ------                     --------------  -----   \n",
            " 0   PatientID                  2149 non-null   int64   \n",
            " 1   Age                        2149 non-null   int64   \n",
            " 2   Gender                     2149 non-null   category\n",
            " 3   Ethnicity                  2149 non-null   category\n",
            " 4   EducationLevel             2149 non-null   category\n",
            " 5   BMI                        2149 non-null   float64 \n",
            " 6   Smoking                    2149 non-null   category\n",
            " 7   AlcoholConsumption         2149 non-null   float64 \n",
            " 8   PhysicalActivity           2149 non-null   float64 \n",
            " 9   DietQuality                2149 non-null   float64 \n",
            " 10  SleepQuality               2149 non-null   float64 \n",
            " 11  FamilyHistoryAlzheimers    2149 non-null   category\n",
            " 12  CardiovascularDisease      2149 non-null   category\n",
            " 13  Diabetes                   2149 non-null   category\n",
            " 14  Depression                 2149 non-null   category\n",
            " 15  HeadInjury                 2149 non-null   category\n",
            " 16  Hypertension               2149 non-null   category\n",
            " 17  SystolicBP                 2149 non-null   int64   \n",
            " 18  DiastolicBP                2149 non-null   int64   \n",
            " 19  CholesterolTotal           2149 non-null   float64 \n",
            " 20  CholesterolLDL             2149 non-null   float64 \n",
            " 21  CholesterolHDL             2149 non-null   float64 \n",
            " 22  CholesterolTriglycerides   2149 non-null   float64 \n",
            " 23  MMSE                       2149 non-null   float64 \n",
            " 24  FunctionalAssessment       2149 non-null   float64 \n",
            " 25  MemoryComplaints           2149 non-null   category\n",
            " 26  BehavioralProblems         2149 non-null   category\n",
            " 27  ADL                        2149 non-null   float64 \n",
            " 28  Confusion                  2149 non-null   category\n",
            " 29  Disorientation             2149 non-null   category\n",
            " 30  PersonalityChanges         2149 non-null   category\n",
            " 31  DifficultyCompletingTasks  2149 non-null   category\n",
            " 32  Forgetfulness              2149 non-null   category\n",
            " 33  Diagnosis                  2149 non-null   category\n",
            "dtypes: category(18), float64(12), int64(4)\n",
            "memory usage: 308.9 KB\n"
          ]
        }
      ]
    },
    {
      "cell_type": "markdown",
      "source": [
        "Since the analysis focuses on differences between Alzheimer's and non Alzheimer's group, the data is split into 2"
      ],
      "metadata": {
        "id": "zzdCHVWy1uUP"
      }
    },
    {
      "cell_type": "code",
      "source": [
        "#split into 2 groups\n",
        "Alzheimers = data[data['Diagnosis'] == 1]\n",
        "NonAlzheimers = data[data['Diagnosis'] == 0]"
      ],
      "metadata": {
        "id": "zove_1H7-Egh"
      },
      "execution_count": 6,
      "outputs": []
    },
    {
      "cell_type": "markdown",
      "source": [
        "Brief overview of demographic details of the patients included in the dataset"
      ],
      "metadata": {
        "id": "8i4BA14B17th"
      }
    },
    {
      "cell_type": "code",
      "source": [
        "#overall demographic details\n",
        "data[['Age', 'Gender', 'Ethnicity', 'EducationLevel']].describe(include='all')"
      ],
      "metadata": {
        "colab": {
          "base_uri": "https://localhost:8080/",
          "height": 394
        },
        "id": "d76GOcOLIfOp",
        "outputId": "dd3e0e71-28fe-40c5-b85f-f71d378a870f"
      },
      "execution_count": 7,
      "outputs": [
        {
          "output_type": "execute_result",
          "data": {
            "text/plain": [
              "                Age  Gender  Ethnicity  EducationLevel\n",
              "count   2149.000000  2149.0     2149.0          2149.0\n",
              "unique          NaN     2.0        4.0             4.0\n",
              "top             NaN     1.0        0.0             1.0\n",
              "freq            NaN  1088.0     1278.0           854.0\n",
              "mean      74.908795     NaN        NaN             NaN\n",
              "std        8.990221     NaN        NaN             NaN\n",
              "min       60.000000     NaN        NaN             NaN\n",
              "25%       67.000000     NaN        NaN             NaN\n",
              "50%       75.000000     NaN        NaN             NaN\n",
              "75%       83.000000     NaN        NaN             NaN\n",
              "max       90.000000     NaN        NaN             NaN"
            ],
            "text/html": [
              "\n",
              "  <div id=\"df-9b15f86d-9a1e-4590-b15f-1a038bd93258\" class=\"colab-df-container\">\n",
              "    <div>\n",
              "<style scoped>\n",
              "    .dataframe tbody tr th:only-of-type {\n",
              "        vertical-align: middle;\n",
              "    }\n",
              "\n",
              "    .dataframe tbody tr th {\n",
              "        vertical-align: top;\n",
              "    }\n",
              "\n",
              "    .dataframe thead th {\n",
              "        text-align: right;\n",
              "    }\n",
              "</style>\n",
              "<table border=\"1\" class=\"dataframe\">\n",
              "  <thead>\n",
              "    <tr style=\"text-align: right;\">\n",
              "      <th></th>\n",
              "      <th>Age</th>\n",
              "      <th>Gender</th>\n",
              "      <th>Ethnicity</th>\n",
              "      <th>EducationLevel</th>\n",
              "    </tr>\n",
              "  </thead>\n",
              "  <tbody>\n",
              "    <tr>\n",
              "      <th>count</th>\n",
              "      <td>2149.000000</td>\n",
              "      <td>2149.0</td>\n",
              "      <td>2149.0</td>\n",
              "      <td>2149.0</td>\n",
              "    </tr>\n",
              "    <tr>\n",
              "      <th>unique</th>\n",
              "      <td>NaN</td>\n",
              "      <td>2.0</td>\n",
              "      <td>4.0</td>\n",
              "      <td>4.0</td>\n",
              "    </tr>\n",
              "    <tr>\n",
              "      <th>top</th>\n",
              "      <td>NaN</td>\n",
              "      <td>1.0</td>\n",
              "      <td>0.0</td>\n",
              "      <td>1.0</td>\n",
              "    </tr>\n",
              "    <tr>\n",
              "      <th>freq</th>\n",
              "      <td>NaN</td>\n",
              "      <td>1088.0</td>\n",
              "      <td>1278.0</td>\n",
              "      <td>854.0</td>\n",
              "    </tr>\n",
              "    <tr>\n",
              "      <th>mean</th>\n",
              "      <td>74.908795</td>\n",
              "      <td>NaN</td>\n",
              "      <td>NaN</td>\n",
              "      <td>NaN</td>\n",
              "    </tr>\n",
              "    <tr>\n",
              "      <th>std</th>\n",
              "      <td>8.990221</td>\n",
              "      <td>NaN</td>\n",
              "      <td>NaN</td>\n",
              "      <td>NaN</td>\n",
              "    </tr>\n",
              "    <tr>\n",
              "      <th>min</th>\n",
              "      <td>60.000000</td>\n",
              "      <td>NaN</td>\n",
              "      <td>NaN</td>\n",
              "      <td>NaN</td>\n",
              "    </tr>\n",
              "    <tr>\n",
              "      <th>25%</th>\n",
              "      <td>67.000000</td>\n",
              "      <td>NaN</td>\n",
              "      <td>NaN</td>\n",
              "      <td>NaN</td>\n",
              "    </tr>\n",
              "    <tr>\n",
              "      <th>50%</th>\n",
              "      <td>75.000000</td>\n",
              "      <td>NaN</td>\n",
              "      <td>NaN</td>\n",
              "      <td>NaN</td>\n",
              "    </tr>\n",
              "    <tr>\n",
              "      <th>75%</th>\n",
              "      <td>83.000000</td>\n",
              "      <td>NaN</td>\n",
              "      <td>NaN</td>\n",
              "      <td>NaN</td>\n",
              "    </tr>\n",
              "    <tr>\n",
              "      <th>max</th>\n",
              "      <td>90.000000</td>\n",
              "      <td>NaN</td>\n",
              "      <td>NaN</td>\n",
              "      <td>NaN</td>\n",
              "    </tr>\n",
              "  </tbody>\n",
              "</table>\n",
              "</div>\n",
              "    <div class=\"colab-df-buttons\">\n",
              "\n",
              "  <div class=\"colab-df-container\">\n",
              "    <button class=\"colab-df-convert\" onclick=\"convertToInteractive('df-9b15f86d-9a1e-4590-b15f-1a038bd93258')\"\n",
              "            title=\"Convert this dataframe to an interactive table.\"\n",
              "            style=\"display:none;\">\n",
              "\n",
              "  <svg xmlns=\"http://www.w3.org/2000/svg\" height=\"24px\" viewBox=\"0 -960 960 960\">\n",
              "    <path d=\"M120-120v-720h720v720H120Zm60-500h600v-160H180v160Zm220 220h160v-160H400v160Zm0 220h160v-160H400v160ZM180-400h160v-160H180v160Zm440 0h160v-160H620v160ZM180-180h160v-160H180v160Zm440 0h160v-160H620v160Z\"/>\n",
              "  </svg>\n",
              "    </button>\n",
              "\n",
              "  <style>\n",
              "    .colab-df-container {\n",
              "      display:flex;\n",
              "      gap: 12px;\n",
              "    }\n",
              "\n",
              "    .colab-df-convert {\n",
              "      background-color: #E8F0FE;\n",
              "      border: none;\n",
              "      border-radius: 50%;\n",
              "      cursor: pointer;\n",
              "      display: none;\n",
              "      fill: #1967D2;\n",
              "      height: 32px;\n",
              "      padding: 0 0 0 0;\n",
              "      width: 32px;\n",
              "    }\n",
              "\n",
              "    .colab-df-convert:hover {\n",
              "      background-color: #E2EBFA;\n",
              "      box-shadow: 0px 1px 2px rgba(60, 64, 67, 0.3), 0px 1px 3px 1px rgba(60, 64, 67, 0.15);\n",
              "      fill: #174EA6;\n",
              "    }\n",
              "\n",
              "    .colab-df-buttons div {\n",
              "      margin-bottom: 4px;\n",
              "    }\n",
              "\n",
              "    [theme=dark] .colab-df-convert {\n",
              "      background-color: #3B4455;\n",
              "      fill: #D2E3FC;\n",
              "    }\n",
              "\n",
              "    [theme=dark] .colab-df-convert:hover {\n",
              "      background-color: #434B5C;\n",
              "      box-shadow: 0px 1px 3px 1px rgba(0, 0, 0, 0.15);\n",
              "      filter: drop-shadow(0px 1px 2px rgba(0, 0, 0, 0.3));\n",
              "      fill: #FFFFFF;\n",
              "    }\n",
              "  </style>\n",
              "\n",
              "    <script>\n",
              "      const buttonEl =\n",
              "        document.querySelector('#df-9b15f86d-9a1e-4590-b15f-1a038bd93258 button.colab-df-convert');\n",
              "      buttonEl.style.display =\n",
              "        google.colab.kernel.accessAllowed ? 'block' : 'none';\n",
              "\n",
              "      async function convertToInteractive(key) {\n",
              "        const element = document.querySelector('#df-9b15f86d-9a1e-4590-b15f-1a038bd93258');\n",
              "        const dataTable =\n",
              "          await google.colab.kernel.invokeFunction('convertToInteractive',\n",
              "                                                    [key], {});\n",
              "        if (!dataTable) return;\n",
              "\n",
              "        const docLinkHtml = 'Like what you see? Visit the ' +\n",
              "          '<a target=\"_blank\" href=https://colab.research.google.com/notebooks/data_table.ipynb>data table notebook</a>'\n",
              "          + ' to learn more about interactive tables.';\n",
              "        element.innerHTML = '';\n",
              "        dataTable['output_type'] = 'display_data';\n",
              "        await google.colab.output.renderOutput(dataTable, element);\n",
              "        const docLink = document.createElement('div');\n",
              "        docLink.innerHTML = docLinkHtml;\n",
              "        element.appendChild(docLink);\n",
              "      }\n",
              "    </script>\n",
              "  </div>\n",
              "\n",
              "\n",
              "<div id=\"df-a0d4432f-3e4b-42b8-ad57-4e2b6004fee3\">\n",
              "  <button class=\"colab-df-quickchart\" onclick=\"quickchart('df-a0d4432f-3e4b-42b8-ad57-4e2b6004fee3')\"\n",
              "            title=\"Suggest charts\"\n",
              "            style=\"display:none;\">\n",
              "\n",
              "<svg xmlns=\"http://www.w3.org/2000/svg\" height=\"24px\"viewBox=\"0 0 24 24\"\n",
              "     width=\"24px\">\n",
              "    <g>\n",
              "        <path d=\"M19 3H5c-1.1 0-2 .9-2 2v14c0 1.1.9 2 2 2h14c1.1 0 2-.9 2-2V5c0-1.1-.9-2-2-2zM9 17H7v-7h2v7zm4 0h-2V7h2v10zm4 0h-2v-4h2v4z\"/>\n",
              "    </g>\n",
              "</svg>\n",
              "  </button>\n",
              "\n",
              "<style>\n",
              "  .colab-df-quickchart {\n",
              "      --bg-color: #E8F0FE;\n",
              "      --fill-color: #1967D2;\n",
              "      --hover-bg-color: #E2EBFA;\n",
              "      --hover-fill-color: #174EA6;\n",
              "      --disabled-fill-color: #AAA;\n",
              "      --disabled-bg-color: #DDD;\n",
              "  }\n",
              "\n",
              "  [theme=dark] .colab-df-quickchart {\n",
              "      --bg-color: #3B4455;\n",
              "      --fill-color: #D2E3FC;\n",
              "      --hover-bg-color: #434B5C;\n",
              "      --hover-fill-color: #FFFFFF;\n",
              "      --disabled-bg-color: #3B4455;\n",
              "      --disabled-fill-color: #666;\n",
              "  }\n",
              "\n",
              "  .colab-df-quickchart {\n",
              "    background-color: var(--bg-color);\n",
              "    border: none;\n",
              "    border-radius: 50%;\n",
              "    cursor: pointer;\n",
              "    display: none;\n",
              "    fill: var(--fill-color);\n",
              "    height: 32px;\n",
              "    padding: 0;\n",
              "    width: 32px;\n",
              "  }\n",
              "\n",
              "  .colab-df-quickchart:hover {\n",
              "    background-color: var(--hover-bg-color);\n",
              "    box-shadow: 0 1px 2px rgba(60, 64, 67, 0.3), 0 1px 3px 1px rgba(60, 64, 67, 0.15);\n",
              "    fill: var(--button-hover-fill-color);\n",
              "  }\n",
              "\n",
              "  .colab-df-quickchart-complete:disabled,\n",
              "  .colab-df-quickchart-complete:disabled:hover {\n",
              "    background-color: var(--disabled-bg-color);\n",
              "    fill: var(--disabled-fill-color);\n",
              "    box-shadow: none;\n",
              "  }\n",
              "\n",
              "  .colab-df-spinner {\n",
              "    border: 2px solid var(--fill-color);\n",
              "    border-color: transparent;\n",
              "    border-bottom-color: var(--fill-color);\n",
              "    animation:\n",
              "      spin 1s steps(1) infinite;\n",
              "  }\n",
              "\n",
              "  @keyframes spin {\n",
              "    0% {\n",
              "      border-color: transparent;\n",
              "      border-bottom-color: var(--fill-color);\n",
              "      border-left-color: var(--fill-color);\n",
              "    }\n",
              "    20% {\n",
              "      border-color: transparent;\n",
              "      border-left-color: var(--fill-color);\n",
              "      border-top-color: var(--fill-color);\n",
              "    }\n",
              "    30% {\n",
              "      border-color: transparent;\n",
              "      border-left-color: var(--fill-color);\n",
              "      border-top-color: var(--fill-color);\n",
              "      border-right-color: var(--fill-color);\n",
              "    }\n",
              "    40% {\n",
              "      border-color: transparent;\n",
              "      border-right-color: var(--fill-color);\n",
              "      border-top-color: var(--fill-color);\n",
              "    }\n",
              "    60% {\n",
              "      border-color: transparent;\n",
              "      border-right-color: var(--fill-color);\n",
              "    }\n",
              "    80% {\n",
              "      border-color: transparent;\n",
              "      border-right-color: var(--fill-color);\n",
              "      border-bottom-color: var(--fill-color);\n",
              "    }\n",
              "    90% {\n",
              "      border-color: transparent;\n",
              "      border-bottom-color: var(--fill-color);\n",
              "    }\n",
              "  }\n",
              "</style>\n",
              "\n",
              "  <script>\n",
              "    async function quickchart(key) {\n",
              "      const quickchartButtonEl =\n",
              "        document.querySelector('#' + key + ' button');\n",
              "      quickchartButtonEl.disabled = true;  // To prevent multiple clicks.\n",
              "      quickchartButtonEl.classList.add('colab-df-spinner');\n",
              "      try {\n",
              "        const charts = await google.colab.kernel.invokeFunction(\n",
              "            'suggestCharts', [key], {});\n",
              "      } catch (error) {\n",
              "        console.error('Error during call to suggestCharts:', error);\n",
              "      }\n",
              "      quickchartButtonEl.classList.remove('colab-df-spinner');\n",
              "      quickchartButtonEl.classList.add('colab-df-quickchart-complete');\n",
              "    }\n",
              "    (() => {\n",
              "      let quickchartButtonEl =\n",
              "        document.querySelector('#df-a0d4432f-3e4b-42b8-ad57-4e2b6004fee3 button');\n",
              "      quickchartButtonEl.style.display =\n",
              "        google.colab.kernel.accessAllowed ? 'block' : 'none';\n",
              "    })();\n",
              "  </script>\n",
              "</div>\n",
              "\n",
              "    </div>\n",
              "  </div>\n"
            ],
            "application/vnd.google.colaboratory.intrinsic+json": {
              "type": "dataframe",
              "summary": "{\n  \"name\": \"data[['Age', 'Gender', 'Ethnicity', 'EducationLevel']]\",\n  \"rows\": 11,\n  \"fields\": [\n    {\n      \"column\": \"Age\",\n      \"properties\": {\n        \"dtype\": \"number\",\n        \"std\": 737.0262635190477,\n        \"min\": 8.990221352745964,\n        \"max\": 2149.0,\n        \"num_unique_values\": 8,\n        \"samples\": [\n          74.90879478827361,\n          75.0,\n          2149.0\n        ],\n        \"semantic_type\": \"\",\n        \"description\": \"\"\n      }\n    },\n    {\n      \"column\": \"Gender\",\n      \"properties\": {\n        \"dtype\": \"number\",\n        \"std\": 1029.166329284695,\n        \"min\": 1.0,\n        \"max\": 2149.0,\n        \"num_unique_values\": 4,\n        \"samples\": [\n          2.0,\n          1088.0,\n          2149.0\n        ],\n        \"semantic_type\": \"\",\n        \"description\": \"\"\n      }\n    },\n    {\n      \"column\": \"Ethnicity\",\n      \"properties\": {\n        \"dtype\": \"number\",\n        \"std\": 1050.1683595182885,\n        \"min\": 0.0,\n        \"max\": 2149.0,\n        \"num_unique_values\": 4,\n        \"samples\": [\n          4.0,\n          1278.0,\n          2149.0\n        ],\n        \"semantic_type\": \"\",\n        \"description\": \"\"\n      }\n    },\n    {\n      \"column\": \"EducationLevel\",\n      \"properties\": {\n        \"dtype\": \"number\",\n        \"std\": 1014.15284844051,\n        \"min\": 1.0,\n        \"max\": 2149.0,\n        \"num_unique_values\": 4,\n        \"samples\": [\n          4.0,\n          854.0,\n          2149.0\n        ],\n        \"semantic_type\": \"\",\n        \"description\": \"\"\n      }\n    }\n  ]\n}"
            }
          },
          "metadata": {},
          "execution_count": 7
        }
      ]
    },
    {
      "cell_type": "code",
      "source": [
        "#more detailed\n",
        "print(data.pivot_table(index=['Gender'], values=['PatientID'], aggfunc='count'))\n",
        "print(data.pivot_table(index=['Ethnicity'], values=['PatientID'], aggfunc='count'))\n",
        "print(data.pivot_table(index=['EducationLevel'], values=['PatientID'], aggfunc='count'))"
      ],
      "metadata": {
        "colab": {
          "base_uri": "https://localhost:8080/"
        },
        "id": "D162JG2c2Hw1",
        "outputId": "fddebb4e-5dad-4ca3-bcd0-027488a4ee00"
      },
      "execution_count": 8,
      "outputs": [
        {
          "output_type": "stream",
          "name": "stdout",
          "text": [
            "        PatientID\n",
            "Gender           \n",
            "0            1061\n",
            "1            1088\n",
            "           PatientID\n",
            "Ethnicity           \n",
            "0               1278\n",
            "1                454\n",
            "2                206\n",
            "3                211\n",
            "                PatientID\n",
            "EducationLevel           \n",
            "0                     446\n",
            "1                     854\n",
            "2                     636\n",
            "3                     213\n"
          ]
        }
      ]
    },
    {
      "cell_type": "markdown",
      "source": [
        "Age of patients range from 60 to 90, with a mean of 75\n",
        "\n",
        "Genders are equally distributed\n",
        "\n",
        "The majority of patients are caucasian (59%), followed by African-American (21%), with a small proportion of Asian (10%) and other ethnicities (10%). This means the results could be biased towards Caucasian and should be considered carefully before applying to other ethnic groups\n",
        "\n",
        "Most patients have finished High School (40%) or Bachelor's study (30%) , some does not complete a diploma (20%) and even fewer having a Master's degree or higher (10%)"
      ],
      "metadata": {
        "id": "zDAmKrjX2qdx"
      }
    },
    {
      "cell_type": "code",
      "source": [
        "#comparison of demographic details\n",
        "print(Alzheimers[['Age', 'Gender', 'Ethnicity', 'EducationLevel']].describe(include='all'))\n",
        "print(NonAlzheimers[['Age', 'Gender', 'Ethnicity', 'EducationLevel']].describe(include='all'))"
      ],
      "metadata": {
        "colab": {
          "base_uri": "https://localhost:8080/"
        },
        "id": "3JUvCVnGAQNc",
        "outputId": "da0987b5-405a-4c0b-8008-feb102b728c4"
      },
      "execution_count": 9,
      "outputs": [
        {
          "output_type": "stream",
          "name": "stdout",
          "text": [
            "               Age  Gender  Ethnicity  EducationLevel\n",
            "count   760.000000   760.0      760.0           760.0\n",
            "unique         NaN     2.0        4.0             4.0\n",
            "top            NaN     0.0        0.0             1.0\n",
            "freq           NaN   386.0      463.0           302.0\n",
            "mean     74.842105     NaN        NaN             NaN\n",
            "std       9.149977     NaN        NaN             NaN\n",
            "min      60.000000     NaN        NaN             NaN\n",
            "25%      67.000000     NaN        NaN             NaN\n",
            "50%      75.000000     NaN        NaN             NaN\n",
            "75%      83.000000     NaN        NaN             NaN\n",
            "max      90.000000     NaN        NaN             NaN\n",
            "                Age  Gender  Ethnicity  EducationLevel\n",
            "count   1389.000000  1389.0     1389.0          1389.0\n",
            "unique          NaN     2.0        4.0             4.0\n",
            "top             NaN     1.0        0.0             1.0\n",
            "freq            NaN   714.0      815.0           552.0\n",
            "mean      74.945284     NaN        NaN             NaN\n",
            "std        8.904709     NaN        NaN             NaN\n",
            "min       60.000000     NaN        NaN             NaN\n",
            "25%       67.000000     NaN        NaN             NaN\n",
            "50%       75.000000     NaN        NaN             NaN\n",
            "75%       83.000000     NaN        NaN             NaN\n",
            "max       90.000000     NaN        NaN             NaN\n"
          ]
        }
      ]
    },
    {
      "cell_type": "markdown",
      "source": [
        "Distribution and range of ages as well as distribution of genders are very similar"
      ],
      "metadata": {
        "id": "UafF9wxz6aYG"
      }
    },
    {
      "cell_type": "code",
      "source": [
        "def pivottable_piechart(data, index, column, labels):\n",
        "  pivottable = data.pivot_table(index=[index], values=[column], aggfunc='count')\n",
        "  print(pivottable)\n",
        "  plt.pie(pivottable[column], labels=labels)\n",
        "  plt.show()"
      ],
      "metadata": {
        "id": "fgMdTXE5UzQ5"
      },
      "execution_count": 10,
      "outputs": []
    },
    {
      "cell_type": "code",
      "source": [
        "ethnicity_labels = ['0', '1', '2', '3']\n",
        "pivottable_piechart(Alzheimers, 'Ethnicity', 'PatientID', ethnicity_labels)\n",
        "pivottable_piechart(NonAlzheimers, 'Ethnicity', 'PatientID', ethnicity_labels)"
      ],
      "metadata": {
        "colab": {
          "base_uri": "https://localhost:8080/",
          "height": 1000
        },
        "id": "ydRaUOsLNUh6",
        "outputId": "f75efaf2-0db7-41e4-c452-8fe9a665e87b"
      },
      "execution_count": 11,
      "outputs": [
        {
          "output_type": "stream",
          "name": "stdout",
          "text": [
            "           PatientID\n",
            "Ethnicity           \n",
            "0                463\n",
            "1                146\n",
            "2                 84\n",
            "3                 67\n"
          ]
        },
        {
          "output_type": "display_data",
          "data": {
            "text/plain": [
              "<Figure size 640x480 with 1 Axes>"
            ],
            "image/png": "[encoded data removed]"
          },
          "metadata": {}
        },
        {
          "output_type": "stream",
          "name": "stdout",
          "text": [
            "           PatientID\n",
            "Ethnicity           \n",
            "0                815\n",
            "1                308\n",
            "2                122\n",
            "3                144\n"
          ]
        },
        {
          "output_type": "display_data",
          "data": {
            "text/plain": [
              "<Figure size 640x480 with 1 Axes>"
            ],
            "image/png": "[encoded data removed]"
          },
          "metadata": {}
        }
      ]
    },
    {
      "cell_type": "code",
      "source": [
        "education_labels = ['0', '1', '2', '3']\n",
        "pivottable_piechart(Alzheimers, 'EducationLevel', 'PatientID', ethnicity_labels)\n",
        "pivottable_piechart(NonAlzheimers, 'EducationLevel', 'PatientID', ethnicity_labels)"
      ],
      "metadata": {
        "colab": {
          "base_uri": "https://localhost:8080/",
          "height": 1000
        },
        "id": "rz8mWknBOKmK",
        "outputId": "298a6529-d2ae-4ce1-d7b6-1cc89cb133a3"
      },
      "execution_count": 12,
      "outputs": [
        {
          "output_type": "stream",
          "name": "stdout",
          "text": [
            "                PatientID\n",
            "EducationLevel           \n",
            "0                     174\n",
            "1                     302\n",
            "2                     217\n",
            "3                      67\n"
          ]
        },
        {
          "output_type": "display_data",
          "data": {
            "text/plain": [
              "<Figure size 640x480 with 1 Axes>"
            ],
            "image/png": "[encoded data removed]"
          },
          "metadata": {}
        },
        {
          "output_type": "stream",
          "name": "stdout",
          "text": [
            "                PatientID\n",
            "EducationLevel           \n",
            "0                     272\n",
            "1                     552\n",
            "2                     419\n",
            "3                     146\n"
          ]
        },
        {
          "output_type": "display_data",
          "data": {
            "text/plain": [
              "<Figure size 640x480 with 1 Axes>"
            ],
            "image/png": "[encoded data removed]"
          },
          "metadata": {}
        }
      ]
    },
    {
      "cell_type": "markdown",
      "source": [
        "There is also no significant differences in the distribution of ethnicities and education levels\n",
        "\n",
        "Overall, the 2 groups have very similar geographic distribution"
      ],
      "metadata": {
        "id": "n9vXCNz26523"
      }
    },
    {
      "cell_type": "code",
      "source": [
        "#comparison of lifestyle factors\n",
        "print(Alzheimers[['BMI', 'Smoking', 'AlcoholConsumption', 'PhysicalActivity', 'DietQuality', 'SleepQuality']].describe(include='all'))\n",
        "print(NonAlzheimers[['BMI', 'Smoking', 'AlcoholConsumption', 'PhysicalActivity', 'DietQuality', 'SleepQuality']].describe(include='all'))"
      ],
      "metadata": {
        "colab": {
          "base_uri": "https://localhost:8080/"
        },
        "id": "f2IRol_YE1v7",
        "outputId": "e6f5e848-44d2-4a71-eadc-55b2c2ea6232"
      },
      "execution_count": 13,
      "outputs": [
        {
          "output_type": "stream",
          "name": "stdout",
          "text": [
            "               BMI  Smoking  AlcoholConsumption  PhysicalActivity  \\\n",
            "count   760.000000    760.0          760.000000        760.000000   \n",
            "unique         NaN      2.0                 NaN               NaN   \n",
            "top            NaN      0.0                 NaN               NaN   \n",
            "freq           NaN    543.0                 NaN               NaN   \n",
            "mean     27.912670      NaN            9.980156          4.943160   \n",
            "std       7.298765      NaN            5.769338          2.836046   \n",
            "min      15.018240      NaN            0.065286          0.019957   \n",
            "25%      21.684882      NaN            4.802623          2.632883   \n",
            "50%      28.004793      NaN            9.860342          4.845318   \n",
            "75%      34.449386      NaN           15.190361          7.374699   \n",
            "max      39.992767      NaN           19.988291          9.985069   \n",
            "\n",
            "        DietQuality  SleepQuality  \n",
            "count    760.000000    760.000000  \n",
            "unique          NaN           NaN  \n",
            "top             NaN           NaN  \n",
            "freq            NaN           NaN  \n",
            "mean       5.026581      6.916292  \n",
            "std        2.911135      1.755597  \n",
            "min        0.019940      4.006171  \n",
            "25%        2.596171      5.340061  \n",
            "50%        5.082541      6.912164  \n",
            "75%        7.577309      8.411609  \n",
            "max        9.971204      9.997627  \n",
            "                BMI  Smoking  AlcoholConsumption  PhysicalActivity  \\\n",
            "count   1389.000000   1389.0         1389.000000       1389.000000   \n",
            "unique          NaN      2.0                 NaN               NaN   \n",
            "top             NaN      0.0                 NaN               NaN   \n",
            "freq            NaN    986.0                 NaN               NaN   \n",
            "mean      27.515092      NaN           10.071880          4.907640   \n",
            "std        7.171293      NaN            5.753469          2.869635   \n",
            "min       15.008851      NaN            0.002003          0.003616   \n",
            "25%       21.538994      NaN            5.310439          2.524451   \n",
            "50%       27.560758      NaN            9.967224          4.733116   \n",
            "75%       33.590817      NaN           15.095018          7.455434   \n",
            "max       39.988513      NaN           19.989293          9.987429   \n",
            "\n",
            "        DietQuality  SleepQuality  \n",
            "count   1389.000000   1389.000000  \n",
            "unique          NaN           NaN  \n",
            "top             NaN           NaN  \n",
            "freq            NaN           NaN  \n",
            "mean       4.974839      7.124832  \n",
            "std        2.908802      1.764196  \n",
            "min        0.009385      4.002629  \n",
            "25%        2.354424      5.564564  \n",
            "50%        5.066293      7.238501  \n",
            "75%        7.519704      8.645183  \n",
            "max        9.998346      9.999840  \n"
          ]
        }
      ]
    },
    {
      "cell_type": "markdown",
      "source": [
        "Lifestyle factors are also very similar. There is like no/very little correlation between these factors and Alzheimer's Disease"
      ],
      "metadata": {
        "id": "inknmzIv7f78"
      }
    },
    {
      "cell_type": "code",
      "source": [
        "#comparison of medical history\n",
        "print(Alzheimers[['FamilyHistoryAlzheimers', 'CardiovascularDisease', 'Diabetes', 'Depression', 'HeadInjury', 'Hypertension']].describe(include='all'))\n",
        "print(NonAlzheimers[['FamilyHistoryAlzheimers', 'CardiovascularDisease', 'Diabetes', 'Depression', 'HeadInjury', 'Hypertension']].describe(include='all'))"
      ],
      "metadata": {
        "colab": {
          "base_uri": "https://localhost:8080/"
        },
        "id": "xj_xz61D2ikL",
        "outputId": "4e9be839-32ae-43ff-f39e-7a064c64c457"
      },
      "execution_count": 14,
      "outputs": [
        {
          "output_type": "stream",
          "name": "stdout",
          "text": [
            "        FamilyHistoryAlzheimers  CardiovascularDisease  Diabetes  Depression  \\\n",
            "count                       760                    760       760         760   \n",
            "unique                        2                      2         2           2   \n",
            "top                           0                      0         0           0   \n",
            "freq                        583                    639       657         610   \n",
            "\n",
            "        HeadInjury  Hypertension  \n",
            "count          760           760  \n",
            "unique           2             2  \n",
            "top              0             0  \n",
            "freq           696           634  \n",
            "        FamilyHistoryAlzheimers  CardiovascularDisease  Diabetes  Depression  \\\n",
            "count                      1389                   1389      1389        1389   \n",
            "unique                        2                      2         2           2   \n",
            "top                           0                      0         0           0   \n",
            "freq                       1024                   1200      1168        1108   \n",
            "\n",
            "        HeadInjury  Hypertension  \n",
            "count         1389          1389  \n",
            "unique           2             2  \n",
            "top              0             0  \n",
            "freq          1254          1195  \n"
          ]
        }
      ]
    },
    {
      "cell_type": "code",
      "source": [
        "total_alzheimers = Alzheimers['PatientID'].count()\n",
        "total_nonalzheimers = NonAlzheimers['PatientID'].count()\n",
        "def percentage(group, column, total):\n",
        "  count = group[group[column] == 1]['PatientID'].count()\n",
        "  print(f'Percentage with {column}: {count / total * 100}')"
      ],
      "metadata": {
        "id": "8ARNw0zXdedC"
      },
      "execution_count": 15,
      "outputs": []
    },
    {
      "cell_type": "code",
      "source": [
        "medical_history_labels = ['0', '1']\n",
        "medical_history = ['FamilyHistoryAlzheimers', 'CardiovascularDisease', 'Diabetes', 'Depression', 'HeadInjury', 'Hypertension']\n",
        "for i in range(6):\n",
        "  pivottable_piechart(Alzheimers, medical_history[i], 'PatientID', medical_history_labels)\n",
        "  percentage(Alzheimers, medical_history[i], total_alzheimers)\n",
        "  pivottable_piechart(NonAlzheimers, medical_history[i], 'PatientID', medical_history_labels)\n",
        "  percentage(NonAlzheimers, medical_history[i], total_nonalzheimers)"
      ],
      "metadata": {
        "colab": {
          "base_uri": "https://localhost:8080/",
          "height": 1000
        },
        "id": "dRUoCjmYXN5z",
        "outputId": "87251ca9-21f0-457d-a01d-05da8a0c0dde"
      },
      "execution_count": 16,
      "outputs": [
        {
          "output_type": "stream",
          "name": "stdout",
          "text": [
            "                         PatientID\n",
            "FamilyHistoryAlzheimers           \n",
            "0                              583\n",
            "1                              177\n"
          ]
        },
        {
          "output_type": "display_data",
          "data": {
            "text/plain": [
              "<Figure size 640x480 with 1 Axes>"
            ],
            "image/png": "[encoded data removed]"
          },
          "metadata": {}
        },
        {
          "output_type": "stream",
          "name": "stdout",
          "text": [
            "Percentage with FamilyHistoryAlzheimers: 23.289473684210527\n",
            "                         PatientID\n",
            "FamilyHistoryAlzheimers           \n",
            "0                             1024\n",
            "1                              365\n"
          ]
        },
        {
          "output_type": "display_data",
          "data": {
            "text/plain": [
              "<Figure size 640x480 with 1 Axes>"
            ],
            "image/png": "[encoded data removed]"
          },
          "metadata": {}
        },
        {
          "output_type": "stream",
          "name": "stdout",
          "text": [
            "Percentage with FamilyHistoryAlzheimers: 26.277897768178544\n",
            "                       PatientID\n",
            "CardiovascularDisease           \n",
            "0                            639\n",
            "1                            121\n"
          ]
        },
        {
          "output_type": "display_data",
          "data": {
            "text/plain": [
              "<Figure size 640x480 with 1 Axes>"
            ],
            "image/png": "[encoded data removed]"
          },
          "metadata": {}
        },
        {
          "output_type": "stream",
          "name": "stdout",
          "text": [
            "Percentage with CardiovascularDisease: 15.921052631578947\n",
            "                       PatientID\n",
            "CardiovascularDisease           \n",
            "0                           1200\n",
            "1                            189\n"
          ]
        },
        {
          "output_type": "display_data",
          "data": {
            "text/plain": [
              "<Figure size 640x480 with 1 Axes>"
            ],
            "image/png": "[encoded data removed]"
          },
          "metadata": {}
        },
        {
          "output_type": "stream",
          "name": "stdout",
          "text": [
            "Percentage with CardiovascularDisease: 13.606911447084233\n",
            "          PatientID\n",
            "Diabetes           \n",
            "0               657\n",
            "1               103\n"
          ]
        },
        {
          "output_type": "display_data",
          "data": {
            "text/plain": [
              "<Figure size 640x480 with 1 Axes>"
            ],
            "image/png": "[encoded data removed]"
          },
          "metadata": {}
        },
        {
          "output_type": "stream",
          "name": "stdout",
          "text": [
            "Percentage with Diabetes: 13.552631578947368\n",
            "          PatientID\n",
            "Diabetes           \n",
            "0              1168\n",
            "1               221\n"
          ]
        },
        {
          "output_type": "display_data",
          "data": {
            "text/plain": [
              "<Figure size 640x480 with 1 Axes>"
            ],
            "image/png": "[encoded data removed]"
          },
          "metadata": {}
        },
        {
          "output_type": "stream",
          "name": "stdout",
          "text": [
            "Percentage with Diabetes: 15.910727141828653\n",
            "            PatientID\n",
            "Depression           \n",
            "0                 610\n",
            "1                 150\n"
          ]
        },
        {
          "output_type": "display_data",
          "data": {
            "text/plain": [
              "<Figure size 640x480 with 1 Axes>"
            ],
            "image/png": "[encoded data removed]"
          },
          "metadata": {}
        },
        {
          "output_type": "stream",
          "name": "stdout",
          "text": [
            "Percentage with Depression: 19.736842105263158\n",
            "            PatientID\n",
            "Depression           \n",
            "0                1108\n",
            "1                 281\n"
          ]
        },
        {
          "output_type": "display_data",
          "data": {
            "text/plain": [
              "<Figure size 640x480 with 1 Axes>"
            ],
            "image/png": "[encoded data removed]"
          },
          "metadata": {}
        },
        {
          "output_type": "stream",
          "name": "stdout",
          "text": [
            "Percentage with Depression: 20.230381569474442\n",
            "            PatientID\n",
            "HeadInjury           \n",
            "0                 696\n",
            "1                  64\n"
          ]
        },
        {
          "output_type": "display_data",
          "data": {
            "text/plain": [
              "<Figure size 640x480 with 1 Axes>"
            ],
            "image/png": "[encoded data removed]"
          },
          "metadata": {}
        },
        {
          "output_type": "stream",
          "name": "stdout",
          "text": [
            "Percentage with HeadInjury: 8.421052631578947\n",
            "            PatientID\n",
            "HeadInjury           \n",
            "0                1254\n",
            "1                 135\n"
          ]
        },
        {
          "output_type": "display_data",
          "data": {
            "text/plain": [
              "<Figure size 640x480 with 1 Axes>"
            ],
            "image/png": "[encoded data removed]"
          },
          "metadata": {}
        },
        {
          "output_type": "stream",
          "name": "stdout",
          "text": [
            "Percentage with HeadInjury: 9.719222462203025\n",
            "              PatientID\n",
            "Hypertension           \n",
            "0                   634\n",
            "1                   126\n"
          ]
        },
        {
          "output_type": "display_data",
          "data": {
            "text/plain": [
              "<Figure size 640x480 with 1 Axes>"
            ],
            "image/png": "[encoded data removed]"
          },
          "metadata": {}
        },
        {
          "output_type": "stream",
          "name": "stdout",
          "text": [
            "Percentage with Hypertension: 16.57894736842105\n",
            "              PatientID\n",
            "Hypertension           \n",
            "0                  1195\n",
            "1                   194\n"
          ]
        },
        {
          "output_type": "display_data",
          "data": {
            "text/plain": [
              "<Figure size 640x480 with 1 Axes>"
            ],
            "image/png": "[encoded data removed]"
          },
          "metadata": {}
        },
        {
          "output_type": "stream",
          "name": "stdout",
          "text": [
            "Percentage with Hypertension: 13.96688264938805\n"
          ]
        }
      ]
    },
    {
      "cell_type": "markdown",
      "source": [
        "There are some very minor differences in 2 groups. Whether these differences affect the chance of having Alzheimer's need to be evaluated further on the in analysis\n",
        "\n",
        "Interestingly, the percentage of patients with family history of Alzheimer's is slightly lower in the Alzheimer's group"
      ],
      "metadata": {
        "id": "W-WFFq_37-h_"
      }
    },
    {
      "cell_type": "code",
      "source": [
        "#comparison of clinical measurements\n",
        "print(Alzheimers[['SystolicBP', 'DiastolicBP', 'CholesterolTotal', 'CholesterolLDL', 'CholesterolHDL', 'CholesterolTriglycerides']].describe(include='all'))\n",
        "print(NonAlzheimers[['SystolicBP', 'DiastolicBP', 'CholesterolTotal', 'CholesterolLDL', 'CholesterolHDL', 'CholesterolTriglycerides']].describe(include='all'))"
      ],
      "metadata": {
        "colab": {
          "base_uri": "https://localhost:8080/"
        },
        "id": "ULf581q9GHU9",
        "outputId": "4523fd05-1aa9-4876-9eb0-0a7ca13504ad"
      },
      "execution_count": 17,
      "outputs": [
        {
          "output_type": "stream",
          "name": "stdout",
          "text": [
            "       SystolicBP  DiastolicBP  CholesterolTotal  CholesterolLDL  \\\n",
            "count  760.000000   760.000000        760.000000      760.000000   \n",
            "mean   133.717105    89.973684        225.565197      122.461726   \n",
            "std     25.962885    17.458231         43.192207       43.231730   \n",
            "min     90.000000    60.000000        150.212650       50.430083   \n",
            "25%    112.000000    74.000000        188.747243       85.195865   \n",
            "50%    133.000000    91.000000        226.448082      121.803389   \n",
            "75%    156.000000   105.000000        262.805195      160.046948   \n",
            "max    179.000000   119.000000        299.959991      199.965665   \n",
            "\n",
            "       CholesterolHDL  CholesterolTriglycerides  \n",
            "count      760.000000                760.000000  \n",
            "mean        60.795330                231.406671  \n",
            "std         23.236805                102.115973  \n",
            "min         20.015125                 50.461611  \n",
            "25%         39.687037                140.034382  \n",
            "50%         61.847228                239.618889  \n",
            "75%         80.565846                316.131860  \n",
            "max         99.959494                399.854322  \n",
            "        SystolicBP  DiastolicBP  CholesterolTotal  CholesterolLDL  \\\n",
            "count  1389.000000  1389.000000       1389.000000     1389.000000   \n",
            "mean    134.564435    89.778978        224.996342      125.361434   \n",
            "std      25.946402    17.671415         42.196668       43.421489   \n",
            "min      90.000000    60.000000        150.093316       50.230707   \n",
            "25%     111.000000    75.000000        191.512224       87.947655   \n",
            "50%     135.000000    90.000000        224.453889      124.839495   \n",
            "75%     157.000000   105.000000        261.873127      162.663527   \n",
            "max     179.000000   119.000000        299.993352      199.807179   \n",
            "\n",
            "       CholesterolHDL  CholesterolTriglycerides  \n",
            "count     1389.000000               1389.000000  \n",
            "mean        58.734832                226.571537  \n",
            "std         23.061410                101.912145  \n",
            "min         20.003434                 50.407194  \n",
            "25%         38.675117                137.172234  \n",
            "50%         58.299539                226.136002  \n",
            "75%         77.917938                313.244803  \n",
            "max         99.980324                399.941862  \n"
          ]
        }
      ]
    },
    {
      "cell_type": "markdown",
      "source": [
        "Most of these measurements are very similar, so these measures likely have minimal effects on the whether the patient suffers from Alzheimer's\n",
        "\n",
        "Measurements with the greatest difference are CholesterolLDL and CholesterolTriglycerides, however there should be further analysis before a conclusion can be made"
      ],
      "metadata": {
        "id": "dc9lpm3f803X"
      }
    },
    {
      "cell_type": "code",
      "source": [
        "#comparison of cognitive and functional assessment\n",
        "print(Alzheimers[['MMSE', 'FunctionalAssessment', 'MemoryComplaints', 'BehavioralProblems', 'ADL']].describe(include='all'))\n",
        "print(NonAlzheimers[['MMSE', 'FunctionalAssessment', 'MemoryComplaints', 'BehavioralProblems', 'ADL']].describe(include='all'))"
      ],
      "metadata": {
        "colab": {
          "base_uri": "https://localhost:8080/"
        },
        "id": "EiyOYTFw26Xo",
        "outputId": "22f2e3e7-69ed-428c-c23d-97189a898886"
      },
      "execution_count": 18,
      "outputs": [
        {
          "output_type": "stream",
          "name": "stdout",
          "text": [
            "              MMSE  FunctionalAssessment  MemoryComplaints  \\\n",
            "count   760.000000            760.000000             760.0   \n",
            "unique         NaN                   NaN               2.0   \n",
            "top            NaN                   NaN               0.0   \n",
            "freq           NaN                   NaN             474.0   \n",
            "mean     11.994657              3.653380               NaN   \n",
            "std       7.225532              2.566685               NaN   \n",
            "min       0.050624              0.000460               NaN   \n",
            "25%       6.040483              1.576868               NaN   \n",
            "50%      11.565835              3.299060               NaN   \n",
            "75%      18.151993              4.920710               NaN   \n",
            "max      29.959425              9.927945               NaN   \n",
            "\n",
            "        BehavioralProblems         ADL  \n",
            "count                760.0  760.000000  \n",
            "unique                 2.0         NaN  \n",
            "top                    0.0         NaN  \n",
            "freq                 557.0         NaN  \n",
            "mean                   NaN    3.657938  \n",
            "std                    NaN    2.700909  \n",
            "min                    NaN    0.001288  \n",
            "25%                    NaN    1.425180  \n",
            "50%                    NaN    3.235750  \n",
            "75%                    NaN    5.026479  \n",
            "max                    NaN    9.945036  \n",
            "               MMSE  FunctionalAssessment  MemoryComplaints  \\\n",
            "count   1389.000000           1389.000000            1389.0   \n",
            "unique          NaN                   NaN               2.0   \n",
            "top             NaN                   NaN               0.0   \n",
            "freq            NaN                   NaN            1228.0   \n",
            "mean      16.265543              5.860669               NaN   \n",
            "std        8.933233              2.761000               NaN   \n",
            "min        0.005312              0.011898               NaN   \n",
            "25%        8.545490              3.850641               NaN   \n",
            "50%       17.145797              6.244300               NaN   \n",
            "75%       24.595710              8.121256               NaN   \n",
            "max       29.991381              9.996467               NaN   \n",
            "\n",
            "        BehavioralProblems          ADL  \n",
            "count               1389.0  1389.000000  \n",
            "unique                 2.0          NaN  \n",
            "top                    0.0          NaN  \n",
            "freq                1255.0          NaN  \n",
            "mean                   NaN     5.707951  \n",
            "std                    NaN     2.826502  \n",
            "min                    NaN     0.014691  \n",
            "25%                    NaN     3.402695  \n",
            "50%                    NaN     6.135120  \n",
            "75%                    NaN     7.998984  \n",
            "max                    NaN     9.999747  \n"
          ]
        }
      ]
    },
    {
      "cell_type": "code",
      "source": [
        "def histogram(table, column):\n",
        "  plt.hist(table[column], bins=10, edgecolor='white')\n",
        "  plt.xlabel(column)\n",
        "  plt.ylabel('Frequency')\n",
        "  plt.show()"
      ],
      "metadata": {
        "id": "SWcc8TafZOvo"
      },
      "execution_count": 19,
      "outputs": []
    },
    {
      "cell_type": "code",
      "source": [
        "#comparison of cognitive and functional assessment\n",
        "cognitive_functional_measures = ['MMSE', 'FunctionalAssessment', 'ADL']\n",
        "for i in range(3):\n",
        "  histogram(Alzheimers, cognitive_functional_measures[i])\n",
        "  histogram(NonAlzheimers, cognitive_functional_measures[i])"
      ],
      "metadata": {
        "colab": {
          "base_uri": "https://localhost:8080/",
          "height": 1000
        },
        "id": "Lr4UPTbPbFjC",
        "outputId": "c02988f2-ba9d-4794-9e05-c8b50a2f5762"
      },
      "execution_count": 20,
      "outputs": [
        {
          "output_type": "display_data",
          "data": {
            "text/plain": [
              "<Figure size 640x480 with 1 Axes>"
            ],
            "image/png": "[encoded data removed]"
          },
          "metadata": {}
        },
        {
          "output_type": "display_data",
          "data": {
            "text/plain": [
              "<Figure size 640x480 with 1 Axes>"
            ],
            "image/png": "[encoded data removed]"
          },
          "metadata": {}
        },
        {
          "output_type": "display_data",
          "data": {
            "text/plain": [
              "<Figure size 640x480 with 1 Axes>"
            ],
            "image/png": "[encoded data removed]"
          },
          "metadata": {}
        },
        {
          "output_type": "display_data",
          "data": {
            "text/plain": [
              "<Figure size 640x480 with 1 Axes>"
            ],
            "image/png": "[encoded data removed]"
          },
          "metadata": {}
        },
        {
          "output_type": "display_data",
          "data": {
            "text/plain": [
              "<Figure size 640x480 with 1 Axes>"
            ],
            "image/png": "[encoded data removed]"
          },
          "metadata": {}
        },
        {
          "output_type": "display_data",
          "data": {
            "text/plain": [
              "<Figure size 640x480 with 1 Axes>"
            ],
            "image/png": "[encoded data removed]"
          },
          "metadata": {}
        }
      ]
    },
    {
      "cell_type": "markdown",
      "source": [
        "This is the category with the greatest difference and is likely the factors that have the most effects on whether a patient has Alzheimer's Disease:\n",
        "\n",
        "1. Very few in Alzheimer's group has MMSE score of above 25, while there is a more even distribution in non Alzheimer's group, with many patients scoring over 25\n",
        "\n",
        "2. There is also a clear split in functional assessment and ADL scores: a large portion of patients in Alzheimer's group has a score of below 5, the opposite of non Alzheimer's group"
      ],
      "metadata": {
        "id": "qDv8h-E_90BI"
      }
    },
    {
      "cell_type": "code",
      "source": [
        "cognitive_functional_labels = ['0', '1']\n",
        "pivottable_piechart(Alzheimers, 'MemoryComplaints', 'PatientID', cognitive_functional_labels)\n",
        "percentage(Alzheimers, 'MemoryComplaints', total_alzheimers)\n",
        "pivottable_piechart(NonAlzheimers, 'MemoryComplaints', 'PatientID', cognitive_functional_labels)\n",
        "percentage(NonAlzheimers, 'MemoryComplaints', total_nonalzheimers)\n",
        "pivottable_piechart(Alzheimers, 'BehavioralProblems', 'PatientID', cognitive_functional_labels)\n",
        "percentage(Alzheimers, 'BehavioralProblems', total_alzheimers)\n",
        "pivottable_piechart(NonAlzheimers, 'BehavioralProblems', 'PatientID', cognitive_functional_labels)\n",
        "percentage(NonAlzheimers, 'BehavioralProblems', total_nonalzheimers)"
      ],
      "metadata": {
        "colab": {
          "base_uri": "https://localhost:8080/",
          "height": 1000
        },
        "id": "NAJ3RaIWbzkk",
        "outputId": "5870406d-d8ee-409e-af86-d8d44f6ea3cb"
      },
      "execution_count": 21,
      "outputs": [
        {
          "output_type": "stream",
          "name": "stdout",
          "text": [
            "                  PatientID\n",
            "MemoryComplaints           \n",
            "0                       474\n",
            "1                       286\n"
          ]
        },
        {
          "output_type": "display_data",
          "data": {
            "text/plain": [
              "<Figure size 640x480 with 1 Axes>"
            ],
            "image/png": "[encoded data removed]"
          },
          "metadata": {}
        },
        {
          "output_type": "stream",
          "name": "stdout",
          "text": [
            "Percentage with MemoryComplaints: 37.631578947368425\n",
            "                  PatientID\n",
            "MemoryComplaints           \n",
            "0                      1228\n",
            "1                       161\n"
          ]
        },
        {
          "output_type": "display_data",
          "data": {
            "text/plain": [
              "<Figure size 640x480 with 1 Axes>"
            ],
            "image/png": "[encoded data removed]"
          },
          "metadata": {}
        },
        {
          "output_type": "stream",
          "name": "stdout",
          "text": [
            "Percentage with MemoryComplaints: 11.591072714182864\n",
            "                    PatientID\n",
            "BehavioralProblems           \n",
            "0                         557\n",
            "1                         203\n"
          ]
        },
        {
          "output_type": "display_data",
          "data": {
            "text/plain": [
              "<Figure size 640x480 with 1 Axes>"
            ],
            "image/png": "[encoded data removed]"
          },
          "metadata": {}
        },
        {
          "output_type": "stream",
          "name": "stdout",
          "text": [
            "Percentage with BehavioralProblems: 26.710526315789473\n",
            "                    PatientID\n",
            "BehavioralProblems           \n",
            "0                        1255\n",
            "1                         134\n"
          ]
        },
        {
          "output_type": "display_data",
          "data": {
            "text/plain": [
              "<Figure size 640x480 with 1 Axes>"
            ],
            "image/png": "[encoded data removed]"
          },
          "metadata": {}
        },
        {
          "output_type": "stream",
          "name": "stdout",
          "text": [
            "Percentage with BehavioralProblems: 9.64722822174226\n"
          ]
        }
      ]
    },
    {
      "cell_type": "markdown",
      "source": [
        "3. The percentage of patients with memory complaints are 38% in Alzheimer's group, over 3 times higher than that in non Alzheimer's group\n",
        "\n",
        "4. The percentage of patients with behavioral problems are 27% in Alzheimer's group, almost 3 times higher than that in non Alzheimer's group"
      ],
      "metadata": {
        "id": "p8lZ1uXz-14d"
      }
    },
    {
      "cell_type": "markdown",
      "source": [
        "In patients with Alzheimer's:\n",
        "\n",
        "1. Low MMSE scores indicate impairment in cognitive abilities, hindering the patients' ability to think and memorize\n",
        "\n",
        "2. Low functional assessment scores as well as low ADL scores indicate difficulty performing daily activities, interfering with patients' daily lives\n",
        "\n",
        "3. Higher percentage of memory complaints indicate the patients' struggles to recall past events\n",
        "\n",
        "4. Behavioral problems vary in severity, from carelessness or inapproriate behaviors to drug use or self harm. These behaviors greatly affect a person's quality of life and could also interfere with the lives of others around them\n",
        "\n",
        "These indicate Alzheimer's Disease can hinder a person's ability to take care of themselves, perform daily activities and work, force them to depend on others and greatly reduce their quality of life"
      ],
      "metadata": {
        "id": "WJgEqE0BKNpF"
      }
    },
    {
      "cell_type": "code",
      "source": [
        "#comparison of symptoms\n",
        "print(Alzheimers[['Confusion', 'Disorientation', 'PersonalityChanges', 'DifficultyCompletingTasks', 'Forgetfulness']].describe(include='all'))\n",
        "print(NonAlzheimers[['Confusion', 'Disorientation', 'PersonalityChanges', 'DifficultyCompletingTasks', 'Forgetfulness']].describe(include='all'))"
      ],
      "metadata": {
        "colab": {
          "base_uri": "https://localhost:8080/"
        },
        "id": "8Fq60nTL3cSJ",
        "outputId": "8c9ececb-cc85-453e-937f-3a583bfd8fcf"
      },
      "execution_count": 22,
      "outputs": [
        {
          "output_type": "stream",
          "name": "stdout",
          "text": [
            "        Confusion  Disorientation  PersonalityChanges  \\\n",
            "count         760             760                 760   \n",
            "unique          2               2                   2   \n",
            "top             0               0                   0   \n",
            "freq          612             649                 653   \n",
            "\n",
            "        DifficultyCompletingTasks  Forgetfulness  \n",
            "count                         760            760  \n",
            "unique                          2              2  \n",
            "top                             0              0  \n",
            "freq                          636            531  \n",
            "        Confusion  Disorientation  PersonalityChanges  \\\n",
            "count        1389            1389                1389   \n",
            "unique          2               2                   2   \n",
            "top             0               0                   0   \n",
            "freq         1096            1160                1172   \n",
            "\n",
            "        DifficultyCompletingTasks  Forgetfulness  \n",
            "count                        1389           1389  \n",
            "unique                          2              2  \n",
            "top                             0              0  \n",
            "freq                         1172            970  \n"
          ]
        }
      ]
    },
    {
      "cell_type": "code",
      "source": [
        "symptons = ['Confusion', 'Disorientation', 'PersonalityChanges', 'DifficultyCompletingTasks', 'Forgetfulness']\n",
        "symptons_labels = ['0', '1']\n",
        "for i in range(5):\n",
        "  pivottable_piechart(Alzheimers, symptons[i], 'PatientID', symptons_labels)\n",
        "  percentage(Alzheimers, symptons[i], total_alzheimers)\n",
        "  pivottable_piechart(NonAlzheimers, symptons[i], 'PatientID', symptons_labels)\n",
        "  percentage(NonAlzheimers, symptons[i], total_nonalzheimers)"
      ],
      "metadata": {
        "colab": {
          "base_uri": "https://localhost:8080/",
          "height": 1000
        },
        "id": "RBHAAfoS_rz-",
        "outputId": "70af8f48-26c0-49e4-ef8f-ed2f48af99d0"
      },
      "execution_count": 23,
      "outputs": [
        {
          "output_type": "stream",
          "name": "stdout",
          "text": [
            "           PatientID\n",
            "Confusion           \n",
            "0                612\n",
            "1                148\n"
          ]
        },
        {
          "output_type": "display_data",
          "data": {
            "text/plain": [
              "<Figure size 640x480 with 1 Axes>"
            ],
            "image/png": "[encoded data removed]"
          },
          "metadata": {}
        },
        {
          "output_type": "stream",
          "name": "stdout",
          "text": [
            "Percentage with Confusion: 19.473684210526315\n",
            "           PatientID\n",
            "Confusion           \n",
            "0               1096\n",
            "1                293\n"
          ]
        },
        {
          "output_type": "display_data",
          "data": {
            "text/plain": [
              "<Figure size 640x480 with 1 Axes>"
            ],
            "image/png": "[encoded data removed]"
          },
          "metadata": {}
        },
        {
          "output_type": "stream",
          "name": "stdout",
          "text": [
            "Percentage with Confusion: 21.0943124550036\n",
            "                PatientID\n",
            "Disorientation           \n",
            "0                     649\n",
            "1                     111\n"
          ]
        },
        {
          "output_type": "display_data",
          "data": {
            "text/plain": [
              "<Figure size 640x480 with 1 Axes>"
            ],
            "image/png": "[encoded data removed]"
          },
          "metadata": {}
        },
        {
          "output_type": "stream",
          "name": "stdout",
          "text": [
            "Percentage with Disorientation: 14.605263157894738\n",
            "                PatientID\n",
            "Disorientation           \n",
            "0                    1160\n",
            "1                     229\n"
          ]
        },
        {
          "output_type": "display_data",
          "data": {
            "text/plain": [
              "<Figure size 640x480 with 1 Axes>"
            ],
            "image/png": "[encoded data removed]"
          },
          "metadata": {}
        },
        {
          "output_type": "stream",
          "name": "stdout",
          "text": [
            "Percentage with Disorientation: 16.48668106551476\n",
            "                    PatientID\n",
            "PersonalityChanges           \n",
            "0                         653\n",
            "1                         107\n"
          ]
        },
        {
          "output_type": "display_data",
          "data": {
            "text/plain": [
              "<Figure size 640x480 with 1 Axes>"
            ],
            "image/png": "[encoded data removed]"
          },
          "metadata": {}
        },
        {
          "output_type": "stream",
          "name": "stdout",
          "text": [
            "Percentage with PersonalityChanges: 14.078947368421051\n",
            "                    PatientID\n",
            "PersonalityChanges           \n",
            "0                        1172\n",
            "1                         217\n"
          ]
        },
        {
          "output_type": "display_data",
          "data": {
            "text/plain": [
              "<Figure size 640x480 with 1 Axes>"
            ],
            "image/png": "[encoded data removed]"
          },
          "metadata": {}
        },
        {
          "output_type": "stream",
          "name": "stdout",
          "text": [
            "Percentage with PersonalityChanges: 15.622750179985601\n",
            "                           PatientID\n",
            "DifficultyCompletingTasks           \n",
            "0                                636\n",
            "1                                124\n"
          ]
        },
        {
          "output_type": "display_data",
          "data": {
            "text/plain": [
              "<Figure size 640x480 with 1 Axes>"
            ],
            "image/png": "[encoded data removed]"
          },
          "metadata": {}
        },
        {
          "output_type": "stream",
          "name": "stdout",
          "text": [
            "Percentage with DifficultyCompletingTasks: 16.315789473684212\n",
            "                           PatientID\n",
            "DifficultyCompletingTasks           \n",
            "0                               1172\n",
            "1                                217\n"
          ]
        },
        {
          "output_type": "display_data",
          "data": {
            "text/plain": [
              "<Figure size 640x480 with 1 Axes>"
            ],
            "image/png": "[encoded data removed]"
          },
          "metadata": {}
        },
        {
          "output_type": "stream",
          "name": "stdout",
          "text": [
            "Percentage with DifficultyCompletingTasks: 15.622750179985601\n",
            "               PatientID\n",
            "Forgetfulness           \n",
            "0                    531\n",
            "1                    229\n"
          ]
        },
        {
          "output_type": "display_data",
          "data": {
            "text/plain": [
              "<Figure size 640x480 with 1 Axes>"
            ],
            "image/png": "[encoded data removed]"
          },
          "metadata": {}
        },
        {
          "output_type": "stream",
          "name": "stdout",
          "text": [
            "Percentage with Forgetfulness: 30.13157894736842\n",
            "               PatientID\n",
            "Forgetfulness           \n",
            "0                    970\n",
            "1                    419\n"
          ]
        },
        {
          "output_type": "display_data",
          "data": {
            "text/plain": [
              "<Figure size 640x480 with 1 Axes>"
            ],
            "image/png": "[encoded data removed]"
          },
          "metadata": {}
        },
        {
          "output_type": "stream",
          "name": "stdout",
          "text": [
            "Percentage with Forgetfulness: 30.165586753059753\n"
          ]
        }
      ]
    },
    {
      "cell_type": "markdown",
      "source": [
        "There is surprisingly little difference in these factors, indicating these symptons are not unique to Alzheimer's and could not be relied on to diagnose the disease"
      ],
      "metadata": {
        "id": "loOUsaj_A_uF"
      }
    },
    {
      "cell_type": "markdown",
      "source": [
        "Even though these symptoms are not unique to Alzheimer's Disease, they are quite commonly observed and associated with Alzheimer's Disease and have great impacts on the patients' lives\n",
        "\n",
        "Confusion and disorientation make it difficult for patients to navigate their daily lives; personality changes make the patient behave differently than they usually do and could put a strain on their relationship; difficulty completing tasks and forgetfulness force them to rely on others to care for them"
      ],
      "metadata": {
        "id": "kXnbe_2sOgdY"
      }
    },
    {
      "cell_type": "code",
      "source": [
        "#further analysis using correlation coefficients of some variables\n",
        "data[['FamilyHistoryAlzheimers', 'CardiovascularDisease', 'Diabetes', 'Depression', 'HeadInjury', 'Hypertension', 'Diagnosis']].corr()"
      ],
      "metadata": {
        "colab": {
          "base_uri": "https://localhost:8080/",
          "height": 269
        },
        "id": "CK9Ik4aSBK7-",
        "outputId": "043d7c46-08fe-4574-f163-75c1055349aa"
      },
      "execution_count": 24,
      "outputs": [
        {
          "output_type": "execute_result",
          "data": {
            "text/plain": [
              "                         FamilyHistoryAlzheimers  CardiovascularDisease  \\\n",
              "FamilyHistoryAlzheimers                 1.000000               0.020783   \n",
              "CardiovascularDisease                   0.020783               1.000000   \n",
              "Diabetes                               -0.023106              -0.010134   \n",
              "Depression                              0.000796               0.006043   \n",
              "HeadInjury                             -0.019184               0.001342   \n",
              "Hypertension                            0.012920              -0.011760   \n",
              "Diagnosis                              -0.032900               0.031490   \n",
              "\n",
              "                         Diabetes  Depression  HeadInjury  Hypertension  \\\n",
              "FamilyHistoryAlzheimers -0.023106    0.000796   -0.019184      0.012920   \n",
              "CardiovascularDisease   -0.010134    0.006043    0.001342     -0.011760   \n",
              "Diabetes                 1.000000    0.003310   -0.000013     -0.000898   \n",
              "Depression               0.003310    1.000000   -0.007662      0.032061   \n",
              "HeadInjury              -0.000013   -0.007662    1.000000     -0.016380   \n",
              "Hypertension            -0.000898    0.032061   -0.016380      1.000000   \n",
              "Diagnosis               -0.031508   -0.005893   -0.021411      0.035080   \n",
              "\n",
              "                         Diagnosis  \n",
              "FamilyHistoryAlzheimers  -0.032900  \n",
              "CardiovascularDisease     0.031490  \n",
              "Diabetes                 -0.031508  \n",
              "Depression               -0.005893  \n",
              "HeadInjury               -0.021411  \n",
              "Hypertension              0.035080  \n",
              "Diagnosis                 1.000000  "
            ],
            "text/html": [
              "\n",
              "  <div id=\"df-b71a8a34-f2a1-44c0-97bd-2050ae913c68\" class=\"colab-df-container\">\n",
              "    <div>\n",
              "<style scoped>\n",
              "    .dataframe tbody tr th:only-of-type {\n",
              "        vertical-align: middle;\n",
              "    }\n",
              "\n",
              "    .dataframe tbody tr th {\n",
              "        vertical-align: top;\n",
              "    }\n",
              "\n",
              "    .dataframe thead th {\n",
              "        text-align: right;\n",
              "    }\n",
              "</style>\n",
              "<table border=\"1\" class=\"dataframe\">\n",
              "  <thead>\n",
              "    <tr style=\"text-align: right;\">\n",
              "      <th></th>\n",
              "      <th>FamilyHistoryAlzheimers</th>\n",
              "      <th>CardiovascularDisease</th>\n",
              "      <th>Diabetes</th>\n",
              "      <th>Depression</th>\n",
              "      <th>HeadInjury</th>\n",
              "      <th>Hypertension</th>\n",
              "      <th>Diagnosis</th>\n",
              "    </tr>\n",
              "  </thead>\n",
              "  <tbody>\n",
              "    <tr>\n",
              "      <th>FamilyHistoryAlzheimers</th>\n",
              "      <td>1.000000</td>\n",
              "      <td>0.020783</td>\n",
              "      <td>-0.023106</td>\n",
              "      <td>0.000796</td>\n",
              "      <td>-0.019184</td>\n",
              "      <td>0.012920</td>\n",
              "      <td>-0.032900</td>\n",
              "    </tr>\n",
              "    <tr>\n",
              "      <th>CardiovascularDisease</th>\n",
              "      <td>0.020783</td>\n",
              "      <td>1.000000</td>\n",
              "      <td>-0.010134</td>\n",
              "      <td>0.006043</td>\n",
              "      <td>0.001342</td>\n",
              "      <td>-0.011760</td>\n",
              "      <td>0.031490</td>\n",
              "    </tr>\n",
              "    <tr>\n",
              "      <th>Diabetes</th>\n",
              "      <td>-0.023106</td>\n",
              "      <td>-0.010134</td>\n",
              "      <td>1.000000</td>\n",
              "      <td>0.003310</td>\n",
              "      <td>-0.000013</td>\n",
              "      <td>-0.000898</td>\n",
              "      <td>-0.031508</td>\n",
              "    </tr>\n",
              "    <tr>\n",
              "      <th>Depression</th>\n",
              "      <td>0.000796</td>\n",
              "      <td>0.006043</td>\n",
              "      <td>0.003310</td>\n",
              "      <td>1.000000</td>\n",
              "      <td>-0.007662</td>\n",
              "      <td>0.032061</td>\n",
              "      <td>-0.005893</td>\n",
              "    </tr>\n",
              "    <tr>\n",
              "      <th>HeadInjury</th>\n",
              "      <td>-0.019184</td>\n",
              "      <td>0.001342</td>\n",
              "      <td>-0.000013</td>\n",
              "      <td>-0.007662</td>\n",
              "      <td>1.000000</td>\n",
              "      <td>-0.016380</td>\n",
              "      <td>-0.021411</td>\n",
              "    </tr>\n",
              "    <tr>\n",
              "      <th>Hypertension</th>\n",
              "      <td>0.012920</td>\n",
              "      <td>-0.011760</td>\n",
              "      <td>-0.000898</td>\n",
              "      <td>0.032061</td>\n",
              "      <td>-0.016380</td>\n",
              "      <td>1.000000</td>\n",
              "      <td>0.035080</td>\n",
              "    </tr>\n",
              "    <tr>\n",
              "      <th>Diagnosis</th>\n",
              "      <td>-0.032900</td>\n",
              "      <td>0.031490</td>\n",
              "      <td>-0.031508</td>\n",
              "      <td>-0.005893</td>\n",
              "      <td>-0.021411</td>\n",
              "      <td>0.035080</td>\n",
              "      <td>1.000000</td>\n",
              "    </tr>\n",
              "  </tbody>\n",
              "</table>\n",
              "</div>\n",
              "    <div class=\"colab-df-buttons\">\n",
              "\n",
              "  <div class=\"colab-df-container\">\n",
              "    <button class=\"colab-df-convert\" onclick=\"convertToInteractive('df-b71a8a34-f2a1-44c0-97bd-2050ae913c68')\"\n",
              "            title=\"Convert this dataframe to an interactive table.\"\n",
              "            style=\"display:none;\">\n",
              "\n",
              "  <svg xmlns=\"http://www.w3.org/2000/svg\" height=\"24px\" viewBox=\"0 -960 960 960\">\n",
              "    <path d=\"M120-120v-720h720v720H120Zm60-500h600v-160H180v160Zm220 220h160v-160H400v160Zm0 220h160v-160H400v160ZM180-400h160v-160H180v160Zm440 0h160v-160H620v160ZM180-180h160v-160H180v160Zm440 0h160v-160H620v160Z\"/>\n",
              "  </svg>\n",
              "    </button>\n",
              "\n",
              "  <style>\n",
              "    .colab-df-container {\n",
              "      display:flex;\n",
              "      gap: 12px;\n",
              "    }\n",
              "\n",
              "    .colab-df-convert {\n",
              "      background-color: #E8F0FE;\n",
              "      border: none;\n",
              "      border-radius: 50%;\n",
              "      cursor: pointer;\n",
              "      display: none;\n",
              "      fill: #1967D2;\n",
              "      height: 32px;\n",
              "      padding: 0 0 0 0;\n",
              "      width: 32px;\n",
              "    }\n",
              "\n",
              "    .colab-df-convert:hover {\n",
              "      background-color: #E2EBFA;\n",
              "      box-shadow: 0px 1px 2px rgba(60, 64, 67, 0.3), 0px 1px 3px 1px rgba(60, 64, 67, 0.15);\n",
              "      fill: #174EA6;\n",
              "    }\n",
              "\n",
              "    .colab-df-buttons div {\n",
              "      margin-bottom: 4px;\n",
              "    }\n",
              "\n",
              "    [theme=dark] .colab-df-convert {\n",
              "      background-color: #3B4455;\n",
              "      fill: #D2E3FC;\n",
              "    }\n",
              "\n",
              "    [theme=dark] .colab-df-convert:hover {\n",
              "      background-color: #434B5C;\n",
              "      box-shadow: 0px 1px 3px 1px rgba(0, 0, 0, 0.15);\n",
              "      filter: drop-shadow(0px 1px 2px rgba(0, 0, 0, 0.3));\n",
              "      fill: #FFFFFF;\n",
              "    }\n",
              "  </style>\n",
              "\n",
              "    <script>\n",
              "      const buttonEl =\n",
              "        document.querySelector('#df-b71a8a34-f2a1-44c0-97bd-2050ae913c68 button.colab-df-convert');\n",
              "      buttonEl.style.display =\n",
              "        google.colab.kernel.accessAllowed ? 'block' : 'none';\n",
              "\n",
              "      async function convertToInteractive(key) {\n",
              "        const element = document.querySelector('#df-b71a8a34-f2a1-44c0-97bd-2050ae913c68');\n",
              "        const dataTable =\n",
              "          await google.colab.kernel.invokeFunction('convertToInteractive',\n",
              "                                                    [key], {});\n",
              "        if (!dataTable) return;\n",
              "\n",
              "        const docLinkHtml = 'Like what you see? Visit the ' +\n",
              "          '<a target=\"_blank\" href=https://colab.research.google.com/notebooks/data_table.ipynb>data table notebook</a>'\n",
              "          + ' to learn more about interactive tables.';\n",
              "        element.innerHTML = '';\n",
              "        dataTable['output_type'] = 'display_data';\n",
              "        await google.colab.output.renderOutput(dataTable, element);\n",
              "        const docLink = document.createElement('div');\n",
              "        docLink.innerHTML = docLinkHtml;\n",
              "        element.appendChild(docLink);\n",
              "      }\n",
              "    </script>\n",
              "  </div>\n",
              "\n",
              "\n",
              "<div id=\"df-f1297537-87b2-43c2-89e5-712506663e1a\">\n",
              "  <button class=\"colab-df-quickchart\" onclick=\"quickchart('df-f1297537-87b2-43c2-89e5-712506663e1a')\"\n",
              "            title=\"Suggest charts\"\n",
              "            style=\"display:none;\">\n",
              "\n",
              "<svg xmlns=\"http://www.w3.org/2000/svg\" height=\"24px\"viewBox=\"0 0 24 24\"\n",
              "     width=\"24px\">\n",
              "    <g>\n",
              "        <path d=\"M19 3H5c-1.1 0-2 .9-2 2v14c0 1.1.9 2 2 2h14c1.1 0 2-.9 2-2V5c0-1.1-.9-2-2-2zM9 17H7v-7h2v7zm4 0h-2V7h2v10zm4 0h-2v-4h2v4z\"/>\n",
              "    </g>\n",
              "</svg>\n",
              "  </button>\n",
              "\n",
              "<style>\n",
              "  .colab-df-quickchart {\n",
              "      --bg-color: #E8F0FE;\n",
              "      --fill-color: #1967D2;\n",
              "      --hover-bg-color: #E2EBFA;\n",
              "      --hover-fill-color: #174EA6;\n",
              "      --disabled-fill-color: #AAA;\n",
              "      --disabled-bg-color: #DDD;\n",
              "  }\n",
              "\n",
              "  [theme=dark] .colab-df-quickchart {\n",
              "      --bg-color: #3B4455;\n",
              "      --fill-color: #D2E3FC;\n",
              "      --hover-bg-color: #434B5C;\n",
              "      --hover-fill-color: #FFFFFF;\n",
              "      --disabled-bg-color: #3B4455;\n",
              "      --disabled-fill-color: #666;\n",
              "  }\n",
              "\n",
              "  .colab-df-quickchart {\n",
              "    background-color: var(--bg-color);\n",
              "    border: none;\n",
              "    border-radius: 50%;\n",
              "    cursor: pointer;\n",
              "    display: none;\n",
              "    fill: var(--fill-color);\n",
              "    height: 32px;\n",
              "    padding: 0;\n",
              "    width: 32px;\n",
              "  }\n",
              "\n",
              "  .colab-df-quickchart:hover {\n",
              "    background-color: var(--hover-bg-color);\n",
              "    box-shadow: 0 1px 2px rgba(60, 64, 67, 0.3), 0 1px 3px 1px rgba(60, 64, 67, 0.15);\n",
              "    fill: var(--button-hover-fill-color);\n",
              "  }\n",
              "\n",
              "  .colab-df-quickchart-complete:disabled,\n",
              "  .colab-df-quickchart-complete:disabled:hover {\n",
              "    background-color: var(--disabled-bg-color);\n",
              "    fill: var(--disabled-fill-color);\n",
              "    box-shadow: none;\n",
              "  }\n",
              "\n",
              "  .colab-df-spinner {\n",
              "    border: 2px solid var(--fill-color);\n",
              "    border-color: transparent;\n",
              "    border-bottom-color: var(--fill-color);\n",
              "    animation:\n",
              "      spin 1s steps(1) infinite;\n",
              "  }\n",
              "\n",
              "  @keyframes spin {\n",
              "    0% {\n",
              "      border-color: transparent;\n",
              "      border-bottom-color: var(--fill-color);\n",
              "      border-left-color: var(--fill-color);\n",
              "    }\n",
              "    20% {\n",
              "      border-color: transparent;\n",
              "      border-left-color: var(--fill-color);\n",
              "      border-top-color: var(--fill-color);\n",
              "    }\n",
              "    30% {\n",
              "      border-color: transparent;\n",
              "      border-left-color: var(--fill-color);\n",
              "      border-top-color: var(--fill-color);\n",
              "      border-right-color: var(--fill-color);\n",
              "    }\n",
              "    40% {\n",
              "      border-color: transparent;\n",
              "      border-right-color: var(--fill-color);\n",
              "      border-top-color: var(--fill-color);\n",
              "    }\n",
              "    60% {\n",
              "      border-color: transparent;\n",
              "      border-right-color: var(--fill-color);\n",
              "    }\n",
              "    80% {\n",
              "      border-color: transparent;\n",
              "      border-right-color: var(--fill-color);\n",
              "      border-bottom-color: var(--fill-color);\n",
              "    }\n",
              "    90% {\n",
              "      border-color: transparent;\n",
              "      border-bottom-color: var(--fill-color);\n",
              "    }\n",
              "  }\n",
              "</style>\n",
              "\n",
              "  <script>\n",
              "    async function quickchart(key) {\n",
              "      const quickchartButtonEl =\n",
              "        document.querySelector('#' + key + ' button');\n",
              "      quickchartButtonEl.disabled = true;  // To prevent multiple clicks.\n",
              "      quickchartButtonEl.classList.add('colab-df-spinner');\n",
              "      try {\n",
              "        const charts = await google.colab.kernel.invokeFunction(\n",
              "            'suggestCharts', [key], {});\n",
              "      } catch (error) {\n",
              "        console.error('Error during call to suggestCharts:', error);\n",
              "      }\n",
              "      quickchartButtonEl.classList.remove('colab-df-spinner');\n",
              "      quickchartButtonEl.classList.add('colab-df-quickchart-complete');\n",
              "    }\n",
              "    (() => {\n",
              "      let quickchartButtonEl =\n",
              "        document.querySelector('#df-f1297537-87b2-43c2-89e5-712506663e1a button');\n",
              "      quickchartButtonEl.style.display =\n",
              "        google.colab.kernel.accessAllowed ? 'block' : 'none';\n",
              "    })();\n",
              "  </script>\n",
              "</div>\n",
              "\n",
              "    </div>\n",
              "  </div>\n"
            ],
            "application/vnd.google.colaboratory.intrinsic+json": {
              "type": "dataframe",
              "summary": "{\n  \"name\": \"data[['FamilyHistoryAlzheimers', 'CardiovascularDisease', 'Diabetes', 'Depression', 'HeadInjury', 'Hypertension', 'Diagnosis']]\",\n  \"rows\": 7,\n  \"fields\": [\n    {\n      \"column\": \"FamilyHistoryAlzheimers\",\n      \"properties\": {\n        \"dtype\": \"number\",\n        \"std\": 0.38103281450675464,\n        \"min\": -0.03289974752274733,\n        \"max\": 1.0,\n        \"num_unique_values\": 7,\n        \"samples\": [\n          1.0,\n          0.02078308830251368,\n          0.012920429517752536\n        ],\n        \"semantic_type\": \"\",\n        \"description\": \"\"\n      }\n    },\n    {\n      \"column\": \"CardiovascularDisease\",\n      \"properties\": {\n        \"dtype\": \"number\",\n        \"std\": 0.37591057143043244,\n        \"min\": -0.011760020022227095,\n        \"max\": 1.0,\n        \"num_unique_values\": 7,\n        \"samples\": [\n          0.02078308830251368,\n          1.0,\n          -0.011760020022227095\n        ],\n        \"semantic_type\": \"\",\n        \"description\": \"\"\n      }\n    },\n    {\n      \"column\": \"Diabetes\",\n      \"properties\": {\n        \"dtype\": \"number\",\n        \"std\": 0.3821087161415473,\n        \"min\": -0.0315076041564909,\n        \"max\": 1.0,\n        \"num_unique_values\": 7,\n        \"samples\": [\n          -0.02310603302091065,\n          -0.010134375995638637,\n          -0.0008975282791548913\n        ],\n        \"semantic_type\": \"\",\n        \"description\": \"\"\n      }\n    },\n    {\n      \"column\": \"Depression\",\n      \"properties\": {\n        \"dtype\": \"number\",\n        \"std\": 0.37638811843414177,\n        \"min\": -0.007661797053126835,\n        \"max\": 1.0,\n        \"num_unique_values\": 7,\n        \"samples\": [\n          0.0007956884640614577,\n          0.006042662925261773,\n          0.03206076472397228\n        ],\n        \"semantic_type\": \"\",\n        \"description\": \"\"\n      }\n    },\n    {\n      \"column\": \"HeadInjury\",\n      \"properties\": {\n        \"dtype\": \"number\",\n        \"std\": 0.3820587911747448,\n        \"min\": -0.021411425744208398,\n        \"max\": 1.0,\n        \"num_unique_values\": 7,\n        \"samples\": [\n          -0.019184049072001837,\n          0.0013415714387315192,\n          -0.01637958375778219\n        ],\n        \"semantic_type\": \"\",\n        \"description\": \"\"\n      }\n    },\n    {\n      \"column\": \"Hypertension\",\n      \"properties\": {\n        \"dtype\": \"number\",\n        \"std\": 0.37528332731055536,\n        \"min\": -0.01637958375778219,\n        \"max\": 1.0,\n        \"num_unique_values\": 7,\n        \"samples\": [\n          0.012920429517752536,\n          -0.011760020022227095,\n          1.0\n        ],\n        \"semantic_type\": \"\",\n        \"description\": \"\"\n      }\n    },\n    {\n      \"column\": \"Diagnosis\",\n      \"properties\": {\n        \"dtype\": \"number\",\n        \"std\": 0.38057552013998697,\n        \"min\": -0.03289974752274733,\n        \"max\": 1.0,\n        \"num_unique_values\": 7,\n        \"samples\": [\n          -0.03289974752274733,\n          0.03149024640849238,\n          0.03508003438192649\n        ],\n        \"semantic_type\": \"\",\n        \"description\": \"\"\n      }\n    }\n  ]\n}"
            }
          },
          "metadata": {},
          "execution_count": 24
        }
      ]
    },
    {
      "cell_type": "markdown",
      "source": [
        "There is very weak correlation between the medical conditions included above and diagnosis of Alzheimer's Disease (all coefficients < 0.1)"
      ],
      "metadata": {
        "id": "B8pyA_mlC8sO"
      }
    },
    {
      "cell_type": "code",
      "source": [
        "data[['CholesterolLDL', 'CholesterolTriglycerides', 'Diagnosis']].corr()"
      ],
      "metadata": {
        "colab": {
          "base_uri": "https://localhost:8080/",
          "height": 143
        },
        "id": "j0rggFHtDKj-",
        "outputId": "6dfeb01d-52f8-42d1-90b0-3d2a40e4a28c"
      },
      "execution_count": 25,
      "outputs": [
        {
          "output_type": "execute_result",
          "data": {
            "text/plain": [
              "                          CholesterolLDL  CholesterolTriglycerides  Diagnosis\n",
              "CholesterolLDL                  1.000000                 -0.005582  -0.031976\n",
              "CholesterolTriglycerides       -0.005582                  1.000000   0.022672\n",
              "Diagnosis                      -0.031976                  0.022672   1.000000"
            ],
            "text/html": [
              "\n",
              "  <div id=\"df-ccac0ad7-0001-49ef-b05c-96cdb9b35c0b\" class=\"colab-df-container\">\n",
              "    <div>\n",
              "<style scoped>\n",
              "    .dataframe tbody tr th:only-of-type {\n",
              "        vertical-align: middle;\n",
              "    }\n",
              "\n",
              "    .dataframe tbody tr th {\n",
              "        vertical-align: top;\n",
              "    }\n",
              "\n",
              "    .dataframe thead th {\n",
              "        text-align: right;\n",
              "    }\n",
              "</style>\n",
              "<table border=\"1\" class=\"dataframe\">\n",
              "  <thead>\n",
              "    <tr style=\"text-align: right;\">\n",
              "      <th></th>\n",
              "      <th>CholesterolLDL</th>\n",
              "      <th>CholesterolTriglycerides</th>\n",
              "      <th>Diagnosis</th>\n",
              "    </tr>\n",
              "  </thead>\n",
              "  <tbody>\n",
              "    <tr>\n",
              "      <th>CholesterolLDL</th>\n",
              "      <td>1.000000</td>\n",
              "      <td>-0.005582</td>\n",
              "      <td>-0.031976</td>\n",
              "    </tr>\n",
              "    <tr>\n",
              "      <th>CholesterolTriglycerides</th>\n",
              "      <td>-0.005582</td>\n",
              "      <td>1.000000</td>\n",
              "      <td>0.022672</td>\n",
              "    </tr>\n",
              "    <tr>\n",
              "      <th>Diagnosis</th>\n",
              "      <td>-0.031976</td>\n",
              "      <td>0.022672</td>\n",
              "      <td>1.000000</td>\n",
              "    </tr>\n",
              "  </tbody>\n",
              "</table>\n",
              "</div>\n",
              "    <div class=\"colab-df-buttons\">\n",
              "\n",
              "  <div class=\"colab-df-container\">\n",
              "    <button class=\"colab-df-convert\" onclick=\"convertToInteractive('df-ccac0ad7-0001-49ef-b05c-96cdb9b35c0b')\"\n",
              "            title=\"Convert this dataframe to an interactive table.\"\n",
              "            style=\"display:none;\">\n",
              "\n",
              "  <svg xmlns=\"http://www.w3.org/2000/svg\" height=\"24px\" viewBox=\"0 -960 960 960\">\n",
              "    <path d=\"M120-120v-720h720v720H120Zm60-500h600v-160H180v160Zm220 220h160v-160H400v160Zm0 220h160v-160H400v160ZM180-400h160v-160H180v160Zm440 0h160v-160H620v160ZM180-180h160v-160H180v160Zm440 0h160v-160H620v160Z\"/>\n",
              "  </svg>\n",
              "    </button>\n",
              "\n",
              "  <style>\n",
              "    .colab-df-container {\n",
              "      display:flex;\n",
              "      gap: 12px;\n",
              "    }\n",
              "\n",
              "    .colab-df-convert {\n",
              "      background-color: #E8F0FE;\n",
              "      border: none;\n",
              "      border-radius: 50%;\n",
              "      cursor: pointer;\n",
              "      display: none;\n",
              "      fill: #1967D2;\n",
              "      height: 32px;\n",
              "      padding: 0 0 0 0;\n",
              "      width: 32px;\n",
              "    }\n",
              "\n",
              "    .colab-df-convert:hover {\n",
              "      background-color: #E2EBFA;\n",
              "      box-shadow: 0px 1px 2px rgba(60, 64, 67, 0.3), 0px 1px 3px 1px rgba(60, 64, 67, 0.15);\n",
              "      fill: #174EA6;\n",
              "    }\n",
              "\n",
              "    .colab-df-buttons div {\n",
              "      margin-bottom: 4px;\n",
              "    }\n",
              "\n",
              "    [theme=dark] .colab-df-convert {\n",
              "      background-color: #3B4455;\n",
              "      fill: #D2E3FC;\n",
              "    }\n",
              "\n",
              "    [theme=dark] .colab-df-convert:hover {\n",
              "      background-color: #434B5C;\n",
              "      box-shadow: 0px 1px 3px 1px rgba(0, 0, 0, 0.15);\n",
              "      filter: drop-shadow(0px 1px 2px rgba(0, 0, 0, 0.3));\n",
              "      fill: #FFFFFF;\n",
              "    }\n",
              "  </style>\n",
              "\n",
              "    <script>\n",
              "      const buttonEl =\n",
              "        document.querySelector('#df-ccac0ad7-0001-49ef-b05c-96cdb9b35c0b button.colab-df-convert');\n",
              "      buttonEl.style.display =\n",
              "        google.colab.kernel.accessAllowed ? 'block' : 'none';\n",
              "\n",
              "      async function convertToInteractive(key) {\n",
              "        const element = document.querySelector('#df-ccac0ad7-0001-49ef-b05c-96cdb9b35c0b');\n",
              "        const dataTable =\n",
              "          await google.colab.kernel.invokeFunction('convertToInteractive',\n",
              "                                                    [key], {});\n",
              "        if (!dataTable) return;\n",
              "\n",
              "        const docLinkHtml = 'Like what you see? Visit the ' +\n",
              "          '<a target=\"_blank\" href=https://colab.research.google.com/notebooks/data_table.ipynb>data table notebook</a>'\n",
              "          + ' to learn more about interactive tables.';\n",
              "        element.innerHTML = '';\n",
              "        dataTable['output_type'] = 'display_data';\n",
              "        await google.colab.output.renderOutput(dataTable, element);\n",
              "        const docLink = document.createElement('div');\n",
              "        docLink.innerHTML = docLinkHtml;\n",
              "        element.appendChild(docLink);\n",
              "      }\n",
              "    </script>\n",
              "  </div>\n",
              "\n",
              "\n",
              "<div id=\"df-dc962bc1-8a11-4a12-826d-2fd05d6f6b74\">\n",
              "  <button class=\"colab-df-quickchart\" onclick=\"quickchart('df-dc962bc1-8a11-4a12-826d-2fd05d6f6b74')\"\n",
              "            title=\"Suggest charts\"\n",
              "            style=\"display:none;\">\n",
              "\n",
              "<svg xmlns=\"http://www.w3.org/2000/svg\" height=\"24px\"viewBox=\"0 0 24 24\"\n",
              "     width=\"24px\">\n",
              "    <g>\n",
              "        <path d=\"M19 3H5c-1.1 0-2 .9-2 2v14c0 1.1.9 2 2 2h14c1.1 0 2-.9 2-2V5c0-1.1-.9-2-2-2zM9 17H7v-7h2v7zm4 0h-2V7h2v10zm4 0h-2v-4h2v4z\"/>\n",
              "    </g>\n",
              "</svg>\n",
              "  </button>\n",
              "\n",
              "<style>\n",
              "  .colab-df-quickchart {\n",
              "      --bg-color: #E8F0FE;\n",
              "      --fill-color: #1967D2;\n",
              "      --hover-bg-color: #E2EBFA;\n",
              "      --hover-fill-color: #174EA6;\n",
              "      --disabled-fill-color: #AAA;\n",
              "      --disabled-bg-color: #DDD;\n",
              "  }\n",
              "\n",
              "  [theme=dark] .colab-df-quickchart {\n",
              "      --bg-color: #3B4455;\n",
              "      --fill-color: #D2E3FC;\n",
              "      --hover-bg-color: #434B5C;\n",
              "      --hover-fill-color: #FFFFFF;\n",
              "      --disabled-bg-color: #3B4455;\n",
              "      --disabled-fill-color: #666;\n",
              "  }\n",
              "\n",
              "  .colab-df-quickchart {\n",
              "    background-color: var(--bg-color);\n",
              "    border: none;\n",
              "    border-radius: 50%;\n",
              "    cursor: pointer;\n",
              "    display: none;\n",
              "    fill: var(--fill-color);\n",
              "    height: 32px;\n",
              "    padding: 0;\n",
              "    width: 32px;\n",
              "  }\n",
              "\n",
              "  .colab-df-quickchart:hover {\n",
              "    background-color: var(--hover-bg-color);\n",
              "    box-shadow: 0 1px 2px rgba(60, 64, 67, 0.3), 0 1px 3px 1px rgba(60, 64, 67, 0.15);\n",
              "    fill: var(--button-hover-fill-color);\n",
              "  }\n",
              "\n",
              "  .colab-df-quickchart-complete:disabled,\n",
              "  .colab-df-quickchart-complete:disabled:hover {\n",
              "    background-color: var(--disabled-bg-color);\n",
              "    fill: var(--disabled-fill-color);\n",
              "    box-shadow: none;\n",
              "  }\n",
              "\n",
              "  .colab-df-spinner {\n",
              "    border: 2px solid var(--fill-color);\n",
              "    border-color: transparent;\n",
              "    border-bottom-color: var(--fill-color);\n",
              "    animation:\n",
              "      spin 1s steps(1) infinite;\n",
              "  }\n",
              "\n",
              "  @keyframes spin {\n",
              "    0% {\n",
              "      border-color: transparent;\n",
              "      border-bottom-color: var(--fill-color);\n",
              "      border-left-color: var(--fill-color);\n",
              "    }\n",
              "    20% {\n",
              "      border-color: transparent;\n",
              "      border-left-color: var(--fill-color);\n",
              "      border-top-color: var(--fill-color);\n",
              "    }\n",
              "    30% {\n",
              "      border-color: transparent;\n",
              "      border-left-color: var(--fill-color);\n",
              "      border-top-color: var(--fill-color);\n",
              "      border-right-color: var(--fill-color);\n",
              "    }\n",
              "    40% {\n",
              "      border-color: transparent;\n",
              "      border-right-color: var(--fill-color);\n",
              "      border-top-color: var(--fill-color);\n",
              "    }\n",
              "    60% {\n",
              "      border-color: transparent;\n",
              "      border-right-color: var(--fill-color);\n",
              "    }\n",
              "    80% {\n",
              "      border-color: transparent;\n",
              "      border-right-color: var(--fill-color);\n",
              "      border-bottom-color: var(--fill-color);\n",
              "    }\n",
              "    90% {\n",
              "      border-color: transparent;\n",
              "      border-bottom-color: var(--fill-color);\n",
              "    }\n",
              "  }\n",
              "</style>\n",
              "\n",
              "  <script>\n",
              "    async function quickchart(key) {\n",
              "      const quickchartButtonEl =\n",
              "        document.querySelector('#' + key + ' button');\n",
              "      quickchartButtonEl.disabled = true;  // To prevent multiple clicks.\n",
              "      quickchartButtonEl.classList.add('colab-df-spinner');\n",
              "      try {\n",
              "        const charts = await google.colab.kernel.invokeFunction(\n",
              "            'suggestCharts', [key], {});\n",
              "      } catch (error) {\n",
              "        console.error('Error during call to suggestCharts:', error);\n",
              "      }\n",
              "      quickchartButtonEl.classList.remove('colab-df-spinner');\n",
              "      quickchartButtonEl.classList.add('colab-df-quickchart-complete');\n",
              "    }\n",
              "    (() => {\n",
              "      let quickchartButtonEl =\n",
              "        document.querySelector('#df-dc962bc1-8a11-4a12-826d-2fd05d6f6b74 button');\n",
              "      quickchartButtonEl.style.display =\n",
              "        google.colab.kernel.accessAllowed ? 'block' : 'none';\n",
              "    })();\n",
              "  </script>\n",
              "</div>\n",
              "\n",
              "    </div>\n",
              "  </div>\n"
            ],
            "application/vnd.google.colaboratory.intrinsic+json": {
              "type": "dataframe",
              "summary": "{\n  \"name\": \"data[['CholesterolLDL', 'CholesterolTriglycerides', 'Diagnosis']]\",\n  \"rows\": 3,\n  \"fields\": [\n    {\n      \"column\": \"CholesterolLDL\",\n      \"properties\": {\n        \"dtype\": \"number\",\n        \"std\": 0.5883403226694999,\n        \"min\": -0.03197582594293182,\n        \"max\": 1.0,\n        \"num_unique_values\": 3,\n        \"samples\": [\n          1.0,\n          -0.005582057992223445,\n          -0.03197582594293182\n        ],\n        \"semantic_type\": \"\",\n        \"description\": \"\"\n      }\n    },\n    {\n      \"column\": \"CholesterolTriglycerides\",\n      \"properties\": {\n        \"dtype\": \"number\",\n        \"std\": 0.5725911601627507,\n        \"min\": -0.005582057992223445,\n        \"max\": 1.0,\n        \"num_unique_values\": 3,\n        \"samples\": [\n          -0.005582057992223445,\n          1.0,\n          0.022671877013684196\n        ],\n        \"semantic_type\": \"\",\n        \"description\": \"\"\n      }\n    },\n    {\n      \"column\": \"Diagnosis\",\n      \"properties\": {\n        \"dtype\": \"number\",\n        \"std\": 0.5806793057487334,\n        \"min\": -0.03197582594293182,\n        \"max\": 1.0,\n        \"num_unique_values\": 3,\n        \"samples\": [\n          -0.03197582594293182,\n          0.022671877013684196,\n          1.0\n        ],\n        \"semantic_type\": \"\",\n        \"description\": \"\"\n      }\n    }\n  ]\n}"
            }
          },
          "metadata": {},
          "execution_count": 25
        }
      ]
    },
    {
      "cell_type": "markdown",
      "source": [
        "The same can be said about CholesterolLDL and CholesterolTriglycerides"
      ],
      "metadata": {
        "id": "a1qH3QmODZjB"
      }
    },
    {
      "cell_type": "code",
      "source": [
        "data[['MMSE', 'FunctionalAssessment', 'MemoryComplaints', 'BehavioralProblems', 'ADL', 'Diagnosis']].corr()"
      ],
      "metadata": {
        "colab": {
          "base_uri": "https://localhost:8080/",
          "height": 237
        },
        "id": "fiPSWC2RD2qJ",
        "outputId": "238269c2-8af8-4426-ac12-674e9e16aa2d"
      },
      "execution_count": 26,
      "outputs": [
        {
          "output_type": "execute_result",
          "data": {
            "text/plain": [
              "                          MMSE  FunctionalAssessment  MemoryComplaints  \\\n",
              "MMSE                  1.000000              0.024932          0.007652   \n",
              "FunctionalAssessment  0.024932              1.000000          0.002320   \n",
              "MemoryComplaints      0.007652              0.002320          1.000000   \n",
              "BehavioralProblems    0.025408             -0.021941         -0.009765   \n",
              "ADL                   0.003359              0.053904         -0.037511   \n",
              "Diagnosis            -0.237126             -0.364898          0.306742   \n",
              "\n",
              "                      BehavioralProblems       ADL  Diagnosis  \n",
              "MMSE                            0.025408  0.003359  -0.237126  \n",
              "FunctionalAssessment           -0.021941  0.053904  -0.364898  \n",
              "MemoryComplaints               -0.009765 -0.037511   0.306742  \n",
              "BehavioralProblems              1.000000  0.043376   0.224350  \n",
              "ADL                             0.043376  1.000000  -0.332346  \n",
              "Diagnosis                       0.224350 -0.332346   1.000000  "
            ],
            "text/html": [
              "\n",
              "  <div id=\"df-f165f062-4a92-4999-bdb3-a3f299a17ee9\" class=\"colab-df-container\">\n",
              "    <div>\n",
              "<style scoped>\n",
              "    .dataframe tbody tr th:only-of-type {\n",
              "        vertical-align: middle;\n",
              "    }\n",
              "\n",
              "    .dataframe tbody tr th {\n",
              "        vertical-align: top;\n",
              "    }\n",
              "\n",
              "    .dataframe thead th {\n",
              "        text-align: right;\n",
              "    }\n",
              "</style>\n",
              "<table border=\"1\" class=\"dataframe\">\n",
              "  <thead>\n",
              "    <tr style=\"text-align: right;\">\n",
              "      <th></th>\n",
              "      <th>MMSE</th>\n",
              "      <th>FunctionalAssessment</th>\n",
              "      <th>MemoryComplaints</th>\n",
              "      <th>BehavioralProblems</th>\n",
              "      <th>ADL</th>\n",
              "      <th>Diagnosis</th>\n",
              "    </tr>\n",
              "  </thead>\n",
              "  <tbody>\n",
              "    <tr>\n",
              "      <th>MMSE</th>\n",
              "      <td>1.000000</td>\n",
              "      <td>0.024932</td>\n",
              "      <td>0.007652</td>\n",
              "      <td>0.025408</td>\n",
              "      <td>0.003359</td>\n",
              "      <td>-0.237126</td>\n",
              "    </tr>\n",
              "    <tr>\n",
              "      <th>FunctionalAssessment</th>\n",
              "      <td>0.024932</td>\n",
              "      <td>1.000000</td>\n",
              "      <td>0.002320</td>\n",
              "      <td>-0.021941</td>\n",
              "      <td>0.053904</td>\n",
              "      <td>-0.364898</td>\n",
              "    </tr>\n",
              "    <tr>\n",
              "      <th>MemoryComplaints</th>\n",
              "      <td>0.007652</td>\n",
              "      <td>0.002320</td>\n",
              "      <td>1.000000</td>\n",
              "      <td>-0.009765</td>\n",
              "      <td>-0.037511</td>\n",
              "      <td>0.306742</td>\n",
              "    </tr>\n",
              "    <tr>\n",
              "      <th>BehavioralProblems</th>\n",
              "      <td>0.025408</td>\n",
              "      <td>-0.021941</td>\n",
              "      <td>-0.009765</td>\n",
              "      <td>1.000000</td>\n",
              "      <td>0.043376</td>\n",
              "      <td>0.224350</td>\n",
              "    </tr>\n",
              "    <tr>\n",
              "      <th>ADL</th>\n",
              "      <td>0.003359</td>\n",
              "      <td>0.053904</td>\n",
              "      <td>-0.037511</td>\n",
              "      <td>0.043376</td>\n",
              "      <td>1.000000</td>\n",
              "      <td>-0.332346</td>\n",
              "    </tr>\n",
              "    <tr>\n",
              "      <th>Diagnosis</th>\n",
              "      <td>-0.237126</td>\n",
              "      <td>-0.364898</td>\n",
              "      <td>0.306742</td>\n",
              "      <td>0.224350</td>\n",
              "      <td>-0.332346</td>\n",
              "      <td>1.000000</td>\n",
              "    </tr>\n",
              "  </tbody>\n",
              "</table>\n",
              "</div>\n",
              "    <div class=\"colab-df-buttons\">\n",
              "\n",
              "  <div class=\"colab-df-container\">\n",
              "    <button class=\"colab-df-convert\" onclick=\"convertToInteractive('df-f165f062-4a92-4999-bdb3-a3f299a17ee9')\"\n",
              "            title=\"Convert this dataframe to an interactive table.\"\n",
              "            style=\"display:none;\">\n",
              "\n",
              "  <svg xmlns=\"http://www.w3.org/2000/svg\" height=\"24px\" viewBox=\"0 -960 960 960\">\n",
              "    <path d=\"M120-120v-720h720v720H120Zm60-500h600v-160H180v160Zm220 220h160v-160H400v160Zm0 220h160v-160H400v160ZM180-400h160v-160H180v160Zm440 0h160v-160H620v160ZM180-180h160v-160H180v160Zm440 0h160v-160H620v160Z\"/>\n",
              "  </svg>\n",
              "    </button>\n",
              "\n",
              "  <style>\n",
              "    .colab-df-container {\n",
              "      display:flex;\n",
              "      gap: 12px;\n",
              "    }\n",
              "\n",
              "    .colab-df-convert {\n",
              "      background-color: #E8F0FE;\n",
              "      border: none;\n",
              "      border-radius: 50%;\n",
              "      cursor: pointer;\n",
              "      display: none;\n",
              "      fill: #1967D2;\n",
              "      height: 32px;\n",
              "      padding: 0 0 0 0;\n",
              "      width: 32px;\n",
              "    }\n",
              "\n",
              "    .colab-df-convert:hover {\n",
              "      background-color: #E2EBFA;\n",
              "      box-shadow: 0px 1px 2px rgba(60, 64, 67, 0.3), 0px 1px 3px 1px rgba(60, 64, 67, 0.15);\n",
              "      fill: #174EA6;\n",
              "    }\n",
              "\n",
              "    .colab-df-buttons div {\n",
              "      margin-bottom: 4px;\n",
              "    }\n",
              "\n",
              "    [theme=dark] .colab-df-convert {\n",
              "      background-color: #3B4455;\n",
              "      fill: #D2E3FC;\n",
              "    }\n",
              "\n",
              "    [theme=dark] .colab-df-convert:hover {\n",
              "      background-color: #434B5C;\n",
              "      box-shadow: 0px 1px 3px 1px rgba(0, 0, 0, 0.15);\n",
              "      filter: drop-shadow(0px 1px 2px rgba(0, 0, 0, 0.3));\n",
              "      fill: #FFFFFF;\n",
              "    }\n",
              "  </style>\n",
              "\n",
              "    <script>\n",
              "      const buttonEl =\n",
              "        document.querySelector('#df-f165f062-4a92-4999-bdb3-a3f299a17ee9 button.colab-df-convert');\n",
              "      buttonEl.style.display =\n",
              "        google.colab.kernel.accessAllowed ? 'block' : 'none';\n",
              "\n",
              "      async function convertToInteractive(key) {\n",
              "        const element = document.querySelector('#df-f165f062-4a92-4999-bdb3-a3f299a17ee9');\n",
              "        const dataTable =\n",
              "          await google.colab.kernel.invokeFunction('convertToInteractive',\n",
              "                                                    [key], {});\n",
              "        if (!dataTable) return;\n",
              "\n",
              "        const docLinkHtml = 'Like what you see? Visit the ' +\n",
              "          '<a target=\"_blank\" href=https://colab.research.google.com/notebooks/data_table.ipynb>data table notebook</a>'\n",
              "          + ' to learn more about interactive tables.';\n",
              "        element.innerHTML = '';\n",
              "        dataTable['output_type'] = 'display_data';\n",
              "        await google.colab.output.renderOutput(dataTable, element);\n",
              "        const docLink = document.createElement('div');\n",
              "        docLink.innerHTML = docLinkHtml;\n",
              "        element.appendChild(docLink);\n",
              "      }\n",
              "    </script>\n",
              "  </div>\n",
              "\n",
              "\n",
              "<div id=\"df-01efc5a4-9090-41ea-84c7-87884660b1f9\">\n",
              "  <button class=\"colab-df-quickchart\" onclick=\"quickchart('df-01efc5a4-9090-41ea-84c7-87884660b1f9')\"\n",
              "            title=\"Suggest charts\"\n",
              "            style=\"display:none;\">\n",
              "\n",
              "<svg xmlns=\"http://www.w3.org/2000/svg\" height=\"24px\"viewBox=\"0 0 24 24\"\n",
              "     width=\"24px\">\n",
              "    <g>\n",
              "        <path d=\"M19 3H5c-1.1 0-2 .9-2 2v14c0 1.1.9 2 2 2h14c1.1 0 2-.9 2-2V5c0-1.1-.9-2-2-2zM9 17H7v-7h2v7zm4 0h-2V7h2v10zm4 0h-2v-4h2v4z\"/>\n",
              "    </g>\n",
              "</svg>\n",
              "  </button>\n",
              "\n",
              "<style>\n",
              "  .colab-df-quickchart {\n",
              "      --bg-color: #E8F0FE;\n",
              "      --fill-color: #1967D2;\n",
              "      --hover-bg-color: #E2EBFA;\n",
              "      --hover-fill-color: #174EA6;\n",
              "      --disabled-fill-color: #AAA;\n",
              "      --disabled-bg-color: #DDD;\n",
              "  }\n",
              "\n",
              "  [theme=dark] .colab-df-quickchart {\n",
              "      --bg-color: #3B4455;\n",
              "      --fill-color: #D2E3FC;\n",
              "      --hover-bg-color: #434B5C;\n",
              "      --hover-fill-color: #FFFFFF;\n",
              "      --disabled-bg-color: #3B4455;\n",
              "      --disabled-fill-color: #666;\n",
              "  }\n",
              "\n",
              "  .colab-df-quickchart {\n",
              "    background-color: var(--bg-color);\n",
              "    border: none;\n",
              "    border-radius: 50%;\n",
              "    cursor: pointer;\n",
              "    display: none;\n",
              "    fill: var(--fill-color);\n",
              "    height: 32px;\n",
              "    padding: 0;\n",
              "    width: 32px;\n",
              "  }\n",
              "\n",
              "  .colab-df-quickchart:hover {\n",
              "    background-color: var(--hover-bg-color);\n",
              "    box-shadow: 0 1px 2px rgba(60, 64, 67, 0.3), 0 1px 3px 1px rgba(60, 64, 67, 0.15);\n",
              "    fill: var(--button-hover-fill-color);\n",
              "  }\n",
              "\n",
              "  .colab-df-quickchart-complete:disabled,\n",
              "  .colab-df-quickchart-complete:disabled:hover {\n",
              "    background-color: var(--disabled-bg-color);\n",
              "    fill: var(--disabled-fill-color);\n",
              "    box-shadow: none;\n",
              "  }\n",
              "\n",
              "  .colab-df-spinner {\n",
              "    border: 2px solid var(--fill-color);\n",
              "    border-color: transparent;\n",
              "    border-bottom-color: var(--fill-color);\n",
              "    animation:\n",
              "      spin 1s steps(1) infinite;\n",
              "  }\n",
              "\n",
              "  @keyframes spin {\n",
              "    0% {\n",
              "      border-color: transparent;\n",
              "      border-bottom-color: var(--fill-color);\n",
              "      border-left-color: var(--fill-color);\n",
              "    }\n",
              "    20% {\n",
              "      border-color: transparent;\n",
              "      border-left-color: var(--fill-color);\n",
              "      border-top-color: var(--fill-color);\n",
              "    }\n",
              "    30% {\n",
              "      border-color: transparent;\n",
              "      border-left-color: var(--fill-color);\n",
              "      border-top-color: var(--fill-color);\n",
              "      border-right-color: var(--fill-color);\n",
              "    }\n",
              "    40% {\n",
              "      border-color: transparent;\n",
              "      border-right-color: var(--fill-color);\n",
              "      border-top-color: var(--fill-color);\n",
              "    }\n",
              "    60% {\n",
              "      border-color: transparent;\n",
              "      border-right-color: var(--fill-color);\n",
              "    }\n",
              "    80% {\n",
              "      border-color: transparent;\n",
              "      border-right-color: var(--fill-color);\n",
              "      border-bottom-color: var(--fill-color);\n",
              "    }\n",
              "    90% {\n",
              "      border-color: transparent;\n",
              "      border-bottom-color: var(--fill-color);\n",
              "    }\n",
              "  }\n",
              "</style>\n",
              "\n",
              "  <script>\n",
              "    async function quickchart(key) {\n",
              "      const quickchartButtonEl =\n",
              "        document.querySelector('#' + key + ' button');\n",
              "      quickchartButtonEl.disabled = true;  // To prevent multiple clicks.\n",
              "      quickchartButtonEl.classList.add('colab-df-spinner');\n",
              "      try {\n",
              "        const charts = await google.colab.kernel.invokeFunction(\n",
              "            'suggestCharts', [key], {});\n",
              "      } catch (error) {\n",
              "        console.error('Error during call to suggestCharts:', error);\n",
              "      }\n",
              "      quickchartButtonEl.classList.remove('colab-df-spinner');\n",
              "      quickchartButtonEl.classList.add('colab-df-quickchart-complete');\n",
              "    }\n",
              "    (() => {\n",
              "      let quickchartButtonEl =\n",
              "        document.querySelector('#df-01efc5a4-9090-41ea-84c7-87884660b1f9 button');\n",
              "      quickchartButtonEl.style.display =\n",
              "        google.colab.kernel.accessAllowed ? 'block' : 'none';\n",
              "    })();\n",
              "  </script>\n",
              "</div>\n",
              "\n",
              "    </div>\n",
              "  </div>\n"
            ],
            "application/vnd.google.colaboratory.intrinsic+json": {
              "type": "dataframe",
              "summary": "{\n  \"name\": \"data[['MMSE', 'FunctionalAssessment', 'MemoryComplaints', 'BehavioralProblems', 'ADL', 'Diagnosis']]\",\n  \"rows\": 6,\n  \"fields\": [\n    {\n      \"column\": \"MMSE\",\n      \"properties\": {\n        \"dtype\": \"number\",\n        \"std\": 0.43458969596898145,\n        \"min\": -0.23712560707352048,\n        \"max\": 1.0,\n        \"num_unique_values\": 6,\n        \"samples\": [\n          1.0,\n          0.024932154455976043,\n          -0.23712560707352048\n        ],\n        \"semantic_type\": \"\",\n        \"description\": \"\"\n      }\n    },\n    {\n      \"column\": \"FunctionalAssessment\",\n      \"properties\": {\n        \"dtype\": \"number\",\n        \"std\": 0.45974311986554983,\n        \"min\": -0.36489830657691463,\n        \"max\": 1.0,\n        \"num_unique_values\": 6,\n        \"samples\": [\n          0.024932154455976043,\n          1.0,\n          -0.36489830657691463\n        ],\n        \"semantic_type\": \"\",\n        \"description\": \"\"\n      }\n    },\n    {\n      \"column\": \"MemoryComplaints\",\n      \"properties\": {\n        \"dtype\": \"number\",\n        \"std\": 0.40671320390896065,\n        \"min\": -0.0375105626654145,\n        \"max\": 1.0,\n        \"num_unique_values\": 6,\n        \"samples\": [\n          0.007651651452807554,\n          0.0023204699103918634,\n          0.30674239370561934\n        ],\n        \"semantic_type\": \"\",\n        \"description\": \"\"\n      }\n    },\n    {\n      \"column\": \"BehavioralProblems\",\n      \"properties\": {\n        \"dtype\": \"number\",\n        \"std\": 0.3970483151447445,\n        \"min\": -0.021940938896560628,\n        \"max\": 1.0,\n        \"num_unique_values\": 6,\n        \"samples\": [\n          0.025408172196720216,\n          -0.021940938896560628,\n          0.22435040084778998\n        ],\n        \"semantic_type\": \"\",\n        \"description\": \"\"\n      }\n    },\n    {\n      \"column\": \"ADL\",\n      \"properties\": {\n        \"dtype\": \"number\",\n        \"std\": 0.45335463435760437,\n        \"min\": -0.3323459162547779,\n        \"max\": 1.0,\n        \"num_unique_values\": 6,\n        \"samples\": [\n          0.0033589084668905543,\n          0.05390425862562445,\n          -0.3323459162547779\n        ],\n        \"semantic_type\": \"\",\n        \"description\": \"\"\n      }\n    },\n    {\n      \"column\": \"Diagnosis\",\n      \"properties\": {\n        \"dtype\": \"number\",\n        \"std\": 0.5262909369206938,\n        \"min\": -0.36489830657691463,\n        \"max\": 1.0,\n        \"num_unique_values\": 6,\n        \"samples\": [\n          -0.23712560707352048,\n          -0.36489830657691463,\n          1.0\n        ],\n        \"semantic_type\": \"\",\n        \"description\": \"\"\n      }\n    }\n  ]\n}"
            }
          },
          "metadata": {},
          "execution_count": 26
        }
      ]
    },
    {
      "cell_type": "markdown",
      "source": [
        "The coefficients of these factors are higher, even though they only range from 0.2 - 0.4, indicating only a week correlation"
      ],
      "metadata": {
        "id": "JTRKgfLzEMAt"
      }
    },
    {
      "cell_type": "code",
      "source": [
        "data[['Confusion', 'Disorientation', 'PersonalityChanges', 'DifficultyCompletingTasks', 'Forgetfulness', 'Diagnosis']].corr()"
      ],
      "metadata": {
        "colab": {
          "base_uri": "https://localhost:8080/",
          "height": 237
        },
        "id": "QJXcp37b36IX",
        "outputId": "3220f177-4cec-46b2-a507-a39314fb63bf"
      },
      "execution_count": 27,
      "outputs": [
        {
          "output_type": "execute_result",
          "data": {
            "text/plain": [
              "                           Confusion  Disorientation  PersonalityChanges  \\\n",
              "Confusion                   1.000000        0.007034           -0.001573   \n",
              "Disorientation              0.007034        1.000000           -0.022311   \n",
              "PersonalityChanges         -0.001573       -0.022311            1.000000   \n",
              "DifficultyCompletingTasks  -0.022003       -0.020767            0.037686   \n",
              "Forgetfulness               0.010100       -0.032013           -0.013311   \n",
              "Diagnosis                  -0.019186       -0.024648           -0.020627   \n",
              "\n",
              "                           DifficultyCompletingTasks  Forgetfulness  Diagnosis  \n",
              "Confusion                                  -0.022003       0.010100  -0.019186  \n",
              "Disorientation                             -0.020767      -0.032013  -0.024648  \n",
              "PersonalityChanges                          0.037686      -0.013311  -0.020627  \n",
              "DifficultyCompletingTasks                   1.000000      -0.013386   0.009069  \n",
              "Forgetfulness                              -0.013386       1.000000  -0.000354  \n",
              "Diagnosis                                   0.009069      -0.000354   1.000000  "
            ],
            "text/html": [
              "\n",
              "  <div id=\"df-9cf801db-d169-4145-91b3-b3d9f04e11c3\" class=\"colab-df-container\">\n",
              "    <div>\n",
              "<style scoped>\n",
              "    .dataframe tbody tr th:only-of-type {\n",
              "        vertical-align: middle;\n",
              "    }\n",
              "\n",
              "    .dataframe tbody tr th {\n",
              "        vertical-align: top;\n",
              "    }\n",
              "\n",
              "    .dataframe thead th {\n",
              "        text-align: right;\n",
              "    }\n",
              "</style>\n",
              "<table border=\"1\" class=\"dataframe\">\n",
              "  <thead>\n",
              "    <tr style=\"text-align: right;\">\n",
              "      <th></th>\n",
              "      <th>Confusion</th>\n",
              "      <th>Disorientation</th>\n",
              "      <th>PersonalityChanges</th>\n",
              "      <th>DifficultyCompletingTasks</th>\n",
              "      <th>Forgetfulness</th>\n",
              "      <th>Diagnosis</th>\n",
              "    </tr>\n",
              "  </thead>\n",
              "  <tbody>\n",
              "    <tr>\n",
              "      <th>Confusion</th>\n",
              "      <td>1.000000</td>\n",
              "      <td>0.007034</td>\n",
              "      <td>-0.001573</td>\n",
              "      <td>-0.022003</td>\n",
              "      <td>0.010100</td>\n",
              "      <td>-0.019186</td>\n",
              "    </tr>\n",
              "    <tr>\n",
              "      <th>Disorientation</th>\n",
              "      <td>0.007034</td>\n",
              "      <td>1.000000</td>\n",
              "      <td>-0.022311</td>\n",
              "      <td>-0.020767</td>\n",
              "      <td>-0.032013</td>\n",
              "      <td>-0.024648</td>\n",
              "    </tr>\n",
              "    <tr>\n",
              "      <th>PersonalityChanges</th>\n",
              "      <td>-0.001573</td>\n",
              "      <td>-0.022311</td>\n",
              "      <td>1.000000</td>\n",
              "      <td>0.037686</td>\n",
              "      <td>-0.013311</td>\n",
              "      <td>-0.020627</td>\n",
              "    </tr>\n",
              "    <tr>\n",
              "      <th>DifficultyCompletingTasks</th>\n",
              "      <td>-0.022003</td>\n",
              "      <td>-0.020767</td>\n",
              "      <td>0.037686</td>\n",
              "      <td>1.000000</td>\n",
              "      <td>-0.013386</td>\n",
              "      <td>0.009069</td>\n",
              "    </tr>\n",
              "    <tr>\n",
              "      <th>Forgetfulness</th>\n",
              "      <td>0.010100</td>\n",
              "      <td>-0.032013</td>\n",
              "      <td>-0.013311</td>\n",
              "      <td>-0.013386</td>\n",
              "      <td>1.000000</td>\n",
              "      <td>-0.000354</td>\n",
              "    </tr>\n",
              "    <tr>\n",
              "      <th>Diagnosis</th>\n",
              "      <td>-0.019186</td>\n",
              "      <td>-0.024648</td>\n",
              "      <td>-0.020627</td>\n",
              "      <td>0.009069</td>\n",
              "      <td>-0.000354</td>\n",
              "      <td>1.000000</td>\n",
              "    </tr>\n",
              "  </tbody>\n",
              "</table>\n",
              "</div>\n",
              "    <div class=\"colab-df-buttons\">\n",
              "\n",
              "  <div class=\"colab-df-container\">\n",
              "    <button class=\"colab-df-convert\" onclick=\"convertToInteractive('df-9cf801db-d169-4145-91b3-b3d9f04e11c3')\"\n",
              "            title=\"Convert this dataframe to an interactive table.\"\n",
              "            style=\"display:none;\">\n",
              "\n",
              "  <svg xmlns=\"http://www.w3.org/2000/svg\" height=\"24px\" viewBox=\"0 -960 960 960\">\n",
              "    <path d=\"M120-120v-720h720v720H120Zm60-500h600v-160H180v160Zm220 220h160v-160H400v160Zm0 220h160v-160H400v160ZM180-400h160v-160H180v160Zm440 0h160v-160H620v160ZM180-180h160v-160H180v160Zm440 0h160v-160H620v160Z\"/>\n",
              "  </svg>\n",
              "    </button>\n",
              "\n",
              "  <style>\n",
              "    .colab-df-container {\n",
              "      display:flex;\n",
              "      gap: 12px;\n",
              "    }\n",
              "\n",
              "    .colab-df-convert {\n",
              "      background-color: #E8F0FE;\n",
              "      border: none;\n",
              "      border-radius: 50%;\n",
              "      cursor: pointer;\n",
              "      display: none;\n",
              "      fill: #1967D2;\n",
              "      height: 32px;\n",
              "      padding: 0 0 0 0;\n",
              "      width: 32px;\n",
              "    }\n",
              "\n",
              "    .colab-df-convert:hover {\n",
              "      background-color: #E2EBFA;\n",
              "      box-shadow: 0px 1px 2px rgba(60, 64, 67, 0.3), 0px 1px 3px 1px rgba(60, 64, 67, 0.15);\n",
              "      fill: #174EA6;\n",
              "    }\n",
              "\n",
              "    .colab-df-buttons div {\n",
              "      margin-bottom: 4px;\n",
              "    }\n",
              "\n",
              "    [theme=dark] .colab-df-convert {\n",
              "      background-color: #3B4455;\n",
              "      fill: #D2E3FC;\n",
              "    }\n",
              "\n",
              "    [theme=dark] .colab-df-convert:hover {\n",
              "      background-color: #434B5C;\n",
              "      box-shadow: 0px 1px 3px 1px rgba(0, 0, 0, 0.15);\n",
              "      filter: drop-shadow(0px 1px 2px rgba(0, 0, 0, 0.3));\n",
              "      fill: #FFFFFF;\n",
              "    }\n",
              "  </style>\n",
              "\n",
              "    <script>\n",
              "      const buttonEl =\n",
              "        document.querySelector('#df-9cf801db-d169-4145-91b3-b3d9f04e11c3 button.colab-df-convert');\n",
              "      buttonEl.style.display =\n",
              "        google.colab.kernel.accessAllowed ? 'block' : 'none';\n",
              "\n",
              "      async function convertToInteractive(key) {\n",
              "        const element = document.querySelector('#df-9cf801db-d169-4145-91b3-b3d9f04e11c3');\n",
              "        const dataTable =\n",
              "          await google.colab.kernel.invokeFunction('convertToInteractive',\n",
              "                                                    [key], {});\n",
              "        if (!dataTable) return;\n",
              "\n",
              "        const docLinkHtml = 'Like what you see? Visit the ' +\n",
              "          '<a target=\"_blank\" href=https://colab.research.google.com/notebooks/data_table.ipynb>data table notebook</a>'\n",
              "          + ' to learn more about interactive tables.';\n",
              "        element.innerHTML = '';\n",
              "        dataTable['output_type'] = 'display_data';\n",
              "        await google.colab.output.renderOutput(dataTable, element);\n",
              "        const docLink = document.createElement('div');\n",
              "        docLink.innerHTML = docLinkHtml;\n",
              "        element.appendChild(docLink);\n",
              "      }\n",
              "    </script>\n",
              "  </div>\n",
              "\n",
              "\n",
              "<div id=\"df-922f1844-bc20-4c21-9a0e-231940b30640\">\n",
              "  <button class=\"colab-df-quickchart\" onclick=\"quickchart('df-922f1844-bc20-4c21-9a0e-231940b30640')\"\n",
              "            title=\"Suggest charts\"\n",
              "            style=\"display:none;\">\n",
              "\n",
              "<svg xmlns=\"http://www.w3.org/2000/svg\" height=\"24px\"viewBox=\"0 0 24 24\"\n",
              "     width=\"24px\">\n",
              "    <g>\n",
              "        <path d=\"M19 3H5c-1.1 0-2 .9-2 2v14c0 1.1.9 2 2 2h14c1.1 0 2-.9 2-2V5c0-1.1-.9-2-2-2zM9 17H7v-7h2v7zm4 0h-2V7h2v10zm4 0h-2v-4h2v4z\"/>\n",
              "    </g>\n",
              "</svg>\n",
              "  </button>\n",
              "\n",
              "<style>\n",
              "  .colab-df-quickchart {\n",
              "      --bg-color: #E8F0FE;\n",
              "      --fill-color: #1967D2;\n",
              "      --hover-bg-color: #E2EBFA;\n",
              "      --hover-fill-color: #174EA6;\n",
              "      --disabled-fill-color: #AAA;\n",
              "      --disabled-bg-color: #DDD;\n",
              "  }\n",
              "\n",
              "  [theme=dark] .colab-df-quickchart {\n",
              "      --bg-color: #3B4455;\n",
              "      --fill-color: #D2E3FC;\n",
              "      --hover-bg-color: #434B5C;\n",
              "      --hover-fill-color: #FFFFFF;\n",
              "      --disabled-bg-color: #3B4455;\n",
              "      --disabled-fill-color: #666;\n",
              "  }\n",
              "\n",
              "  .colab-df-quickchart {\n",
              "    background-color: var(--bg-color);\n",
              "    border: none;\n",
              "    border-radius: 50%;\n",
              "    cursor: pointer;\n",
              "    display: none;\n",
              "    fill: var(--fill-color);\n",
              "    height: 32px;\n",
              "    padding: 0;\n",
              "    width: 32px;\n",
              "  }\n",
              "\n",
              "  .colab-df-quickchart:hover {\n",
              "    background-color: var(--hover-bg-color);\n",
              "    box-shadow: 0 1px 2px rgba(60, 64, 67, 0.3), 0 1px 3px 1px rgba(60, 64, 67, 0.15);\n",
              "    fill: var(--button-hover-fill-color);\n",
              "  }\n",
              "\n",
              "  .colab-df-quickchart-complete:disabled,\n",
              "  .colab-df-quickchart-complete:disabled:hover {\n",
              "    background-color: var(--disabled-bg-color);\n",
              "    fill: var(--disabled-fill-color);\n",
              "    box-shadow: none;\n",
              "  }\n",
              "\n",
              "  .colab-df-spinner {\n",
              "    border: 2px solid var(--fill-color);\n",
              "    border-color: transparent;\n",
              "    border-bottom-color: var(--fill-color);\n",
              "    animation:\n",
              "      spin 1s steps(1) infinite;\n",
              "  }\n",
              "\n",
              "  @keyframes spin {\n",
              "    0% {\n",
              "      border-color: transparent;\n",
              "      border-bottom-color: var(--fill-color);\n",
              "      border-left-color: var(--fill-color);\n",
              "    }\n",
              "    20% {\n",
              "      border-color: transparent;\n",
              "      border-left-color: var(--fill-color);\n",
              "      border-top-color: var(--fill-color);\n",
              "    }\n",
              "    30% {\n",
              "      border-color: transparent;\n",
              "      border-left-color: var(--fill-color);\n",
              "      border-top-color: var(--fill-color);\n",
              "      border-right-color: var(--fill-color);\n",
              "    }\n",
              "    40% {\n",
              "      border-color: transparent;\n",
              "      border-right-color: var(--fill-color);\n",
              "      border-top-color: var(--fill-color);\n",
              "    }\n",
              "    60% {\n",
              "      border-color: transparent;\n",
              "      border-right-color: var(--fill-color);\n",
              "    }\n",
              "    80% {\n",
              "      border-color: transparent;\n",
              "      border-right-color: var(--fill-color);\n",
              "      border-bottom-color: var(--fill-color);\n",
              "    }\n",
              "    90% {\n",
              "      border-color: transparent;\n",
              "      border-bottom-color: var(--fill-color);\n",
              "    }\n",
              "  }\n",
              "</style>\n",
              "\n",
              "  <script>\n",
              "    async function quickchart(key) {\n",
              "      const quickchartButtonEl =\n",
              "        document.querySelector('#' + key + ' button');\n",
              "      quickchartButtonEl.disabled = true;  // To prevent multiple clicks.\n",
              "      quickchartButtonEl.classList.add('colab-df-spinner');\n",
              "      try {\n",
              "        const charts = await google.colab.kernel.invokeFunction(\n",
              "            'suggestCharts', [key], {});\n",
              "      } catch (error) {\n",
              "        console.error('Error during call to suggestCharts:', error);\n",
              "      }\n",
              "      quickchartButtonEl.classList.remove('colab-df-spinner');\n",
              "      quickchartButtonEl.classList.add('colab-df-quickchart-complete');\n",
              "    }\n",
              "    (() => {\n",
              "      let quickchartButtonEl =\n",
              "        document.querySelector('#df-922f1844-bc20-4c21-9a0e-231940b30640 button');\n",
              "      quickchartButtonEl.style.display =\n",
              "        google.colab.kernel.accessAllowed ? 'block' : 'none';\n",
              "    })();\n",
              "  </script>\n",
              "</div>\n",
              "\n",
              "    </div>\n",
              "  </div>\n"
            ],
            "application/vnd.google.colaboratory.intrinsic+json": {
              "type": "dataframe",
              "summary": "{\n  \"name\": \"data[['Confusion', 'Disorientation', 'PersonalityChanges', 'DifficultyCompletingTasks', 'Forgetfulness', 'Diagnosis']]\",\n  \"rows\": 6,\n  \"fields\": [\n    {\n      \"column\": \"Confusion\",\n      \"properties\": {\n        \"dtype\": \"number\",\n        \"std\": 0.4105538932461106,\n        \"min\": -0.022002796194452008,\n        \"max\": 1.0,\n        \"num_unique_values\": 6,\n        \"samples\": [\n          1.0,\n          0.007034482796619723,\n          -0.01918571967575\n        ],\n        \"semantic_type\": \"\",\n        \"description\": \"\"\n      }\n    },\n    {\n      \"column\": \"Disorientation\",\n      \"properties\": {\n        \"dtype\": \"number\",\n        \"std\": 0.41603209050844053,\n        \"min\": -0.03201338437884781,\n        \"max\": 1.0,\n        \"num_unique_values\": 6,\n        \"samples\": [\n          0.007034482796619723,\n          1.0,\n          -0.024648156933488655\n        ],\n        \"semantic_type\": \"\",\n        \"description\": \"\"\n      }\n    },\n    {\n      \"column\": \"PersonalityChanges\",\n      \"properties\": {\n        \"dtype\": \"number\",\n        \"std\": 0.4104878632432534,\n        \"min\": -0.022311101946926173,\n        \"max\": 1.0,\n        \"num_unique_values\": 6,\n        \"samples\": [\n          -0.0015733383607741663,\n          -0.022311101946926173,\n          -0.020627462537192404\n        ],\n        \"semantic_type\": \"\",\n        \"description\": \"\"\n      }\n    },\n    {\n      \"column\": \"DifficultyCompletingTasks\",\n      \"properties\": {\n        \"dtype\": \"number\",\n        \"std\": 0.4096460435877412,\n        \"min\": -0.022002796194452008,\n        \"max\": 1.0,\n        \"num_unique_values\": 6,\n        \"samples\": [\n          -0.022002796194452008,\n          -0.02076669971509849,\n          0.009068581809868215\n        ],\n        \"semantic_type\": \"\",\n        \"description\": \"\"\n      }\n    },\n    {\n      \"column\": \"Forgetfulness\",\n      \"properties\": {\n        \"dtype\": \"number\",\n        \"std\": 0.41248972225237185,\n        \"min\": -0.03201338437884781,\n        \"max\": 1.0,\n        \"num_unique_values\": 6,\n        \"samples\": [\n          0.01010005923022753,\n          -0.03201338437884781,\n          -0.00035428982556098756\n        ],\n        \"semantic_type\": \"\",\n        \"description\": \"\"\n      }\n    },\n    {\n      \"column\": \"Diagnosis\",\n      \"properties\": {\n        \"dtype\": \"number\",\n        \"std\": 0.4130087667908675,\n        \"min\": -0.024648156933488655,\n        \"max\": 1.0,\n        \"num_unique_values\": 6,\n        \"samples\": [\n          -0.01918571967575,\n          -0.024648156933488655,\n          1.0\n        ],\n        \"semantic_type\": \"\",\n        \"description\": \"\"\n      }\n    }\n  ]\n}"
            }
          },
          "metadata": {},
          "execution_count": 27
        }
      ]
    },
    {
      "cell_type": "markdown",
      "source": [
        "Very low coefficients (> 0.1), indicating little/no correlation between the listed symptoms and diagnosis"
      ],
      "metadata": {
        "id": "bXCEf_Cr36YH"
      }
    },
    {
      "cell_type": "markdown",
      "source": [
        "##Model to predict chance of having Alzheimer's"
      ],
      "metadata": {
        "id": "SxvRmDk5EYX8"
      }
    },
    {
      "cell_type": "code",
      "source": [
        "#generate model\n",
        "x = data[['Age', 'Gender', 'Ethnicity', 'EducationLevel',\n",
        "         'BMI', 'Smoking', 'AlcoholConsumption', 'PhysicalActivity', 'DietQuality', 'SleepQuality',\n",
        "         'FamilyHistoryAlzheimers', 'CardiovascularDisease', 'Diabetes', 'Depression', 'HeadInjury', 'Hypertension',\n",
        "         'SystolicBP', 'DiastolicBP', 'CholesterolTotal', 'CholesterolLDL', 'CholesterolHDL', 'CholesterolTriglycerides',\n",
        "         'MMSE', 'FunctionalAssessment', 'MemoryComplaints', 'BehavioralProblems', 'ADL',\n",
        "         'Confusion', 'Disorientation', 'PersonalityChanges', 'DifficultyCompletingTasks', 'Forgetfulness']]\n",
        "y = data['Diagnosis']\n",
        "x = sm.add_constant(x)\n",
        "model = sm.Logit(y, x).fit()\n",
        "model.summary()"
      ],
      "metadata": {
        "colab": {
          "base_uri": "https://localhost:8080/",
          "height": 966
        },
        "id": "uvMBPE3wJgIv",
        "outputId": "d46feb69-bec2-4d79-e33d-ea23a4c810a6"
      },
      "execution_count": 28,
      "outputs": [
        {
          "output_type": "stream",
          "name": "stdout",
          "text": [
            "Optimization terminated successfully.\n",
            "         Current function value: 0.368112\n",
            "         Iterations 7\n"
          ]
        },
        {
          "output_type": "execute_result",
          "data": {
            "text/plain": [
              "<class 'statsmodels.iolib.summary.Summary'>\n",
              "\"\"\"\n",
              "                           Logit Regression Results                           \n",
              "==============================================================================\n",
              "Dep. Variable:              Diagnosis   No. Observations:                 2149\n",
              "Model:                          Logit   Df Residuals:                     2116\n",
              "Method:                           MLE   Df Model:                           32\n",
              "Date:                Sun, 30 Jun 2024   Pseudo R-squ.:                  0.4334\n",
              "Time:                        11:21:55   Log-Likelihood:                -791.07\n",
              "converged:                       True   LL-Null:                       -1396.2\n",
              "Covariance Type:            nonrobust   LLR p-value:                6.854e-234\n",
              "=============================================================================================\n",
              "                                coef    std err          z      P>|z|      [0.025      0.975]\n",
              "---------------------------------------------------------------------------------------------\n",
              "const                         5.2976      0.969      5.467      0.000       3.398       7.197\n",
              "Age                          -0.0103      0.007     -1.465      0.143      -0.024       0.003\n",
              "Gender                       -0.0479      0.128     -0.375      0.707      -0.298       0.202\n",
              "Ethnicity                    -0.0374      0.065     -0.575      0.565      -0.165       0.090\n",
              "EducationLevel               -0.0880      0.071     -1.242      0.214      -0.227       0.051\n",
              "BMI                          -0.0044      0.009     -0.493      0.622      -0.022       0.013\n",
              "Smoking                      -0.2138      0.142     -1.508      0.132      -0.492       0.064\n",
              "AlcoholConsumption           -0.0087      0.011     -0.792      0.428      -0.030       0.013\n",
              "PhysicalActivity             -0.0073      0.022     -0.332      0.740      -0.050       0.036\n",
              "DietQuality                   0.0100      0.022      0.452      0.651      -0.033       0.053\n",
              "SleepQuality                 -0.0554      0.036     -1.526      0.127      -0.126       0.016\n",
              "FamilyHistoryAlzheimers      -0.1106      0.149     -0.745      0.456      -0.402       0.180\n",
              "CardiovascularDisease         0.1676      0.176      0.952      0.341      -0.178       0.513\n",
              "Diabetes                      0.0153      0.183      0.084      0.933      -0.343       0.374\n",
              "Depression                    0.0661      0.156      0.423      0.672      -0.240       0.372\n",
              "HeadInjury                   -0.3272      0.222     -1.472      0.141      -0.763       0.109\n",
              "Hypertension                  0.1979      0.178      1.115      0.265      -0.150       0.546\n",
              "SystolicBP                   -0.0007      0.002     -0.289      0.773      -0.006       0.004\n",
              "DiastolicBP                   0.0019      0.004      0.518      0.605      -0.005       0.009\n",
              "CholesterolTotal              0.0002      0.001      0.158      0.874      -0.003       0.003\n",
              "CholesterolLDL               -0.0029      0.001     -1.959      0.050      -0.006    1.91e-06\n",
              "CholesterolHDL                0.0047      0.003      1.719      0.086      -0.001       0.010\n",
              "CholesterolTriglycerides      0.0007      0.001      1.175      0.240      -0.000       0.002\n",
              "MMSE                         -0.1071      0.008    -13.073      0.000      -0.123      -0.091\n",
              "FunctionalAssessment         -0.4482      0.026    -16.916      0.000      -0.500      -0.396\n",
              "MemoryComplaints              2.5967      0.167     15.574      0.000       2.270       2.924\n",
              "BehavioralProblems            2.5053      0.185     13.540      0.000       2.143       2.868\n",
              "ADL                          -0.4216      0.026    -16.221      0.000      -0.473      -0.371\n",
              "Confusion                    -0.1542      0.160     -0.967      0.334      -0.467       0.158\n",
              "Disorientation               -0.1206      0.176     -0.687      0.492      -0.465       0.224\n",
              "PersonalityChanges           -0.0711      0.182     -0.390      0.697      -0.429       0.286\n",
              "DifficultyCompletingTasks     0.1008      0.174      0.579      0.562      -0.240       0.442\n",
              "Forgetfulness                 0.0036      0.139      0.026      0.980      -0.269       0.276\n",
              "=============================================================================================\n",
              "\"\"\""
            ],
            "text/html": [
              "<table class=\"simpletable\">\n",
              "<caption>Logit Regression Results</caption>\n",
              "<tr>\n",
              "  <th>Dep. Variable:</th>       <td>Diagnosis</td>    <th>  No. Observations:  </th>   <td>  2149</td>  \n",
              "</tr>\n",
              "<tr>\n",
              "  <th>Model:</th>                 <td>Logit</td>      <th>  Df Residuals:      </th>   <td>  2116</td>  \n",
              "</tr>\n",
              "<tr>\n",
              "  <th>Method:</th>                 <td>MLE</td>       <th>  Df Model:          </th>   <td>    32</td>  \n",
              "</tr>\n",
              "<tr>\n",
              "  <th>Date:</th>            <td>Sun, 30 Jun 2024</td> <th>  Pseudo R-squ.:     </th>   <td>0.4334</td>  \n",
              "</tr>\n",
              "<tr>\n",
              "  <th>Time:</th>                <td>11:21:55</td>     <th>  Log-Likelihood:    </th>  <td> -791.07</td> \n",
              "</tr>\n",
              "<tr>\n",
              "  <th>converged:</th>             <td>True</td>       <th>  LL-Null:           </th>  <td> -1396.2</td> \n",
              "</tr>\n",
              "<tr>\n",
              "  <th>Covariance Type:</th>     <td>nonrobust</td>    <th>  LLR p-value:       </th> <td>6.854e-234</td>\n",
              "</tr>\n",
              "</table>\n",
              "<table class=\"simpletable\">\n",
              "<tr>\n",
              "              <td></td>                 <th>coef</th>     <th>std err</th>      <th>z</th>      <th>P>|z|</th>  <th>[0.025</th>    <th>0.975]</th>  \n",
              "</tr>\n",
              "<tr>\n",
              "  <th>const</th>                     <td>    5.2976</td> <td>    0.969</td> <td>    5.467</td> <td> 0.000</td> <td>    3.398</td> <td>    7.197</td>\n",
              "</tr>\n",
              "<tr>\n",
              "  <th>Age</th>                       <td>   -0.0103</td> <td>    0.007</td> <td>   -1.465</td> <td> 0.143</td> <td>   -0.024</td> <td>    0.003</td>\n",
              "</tr>\n",
              "<tr>\n",
              "  <th>Gender</th>                    <td>   -0.0479</td> <td>    0.128</td> <td>   -0.375</td> <td> 0.707</td> <td>   -0.298</td> <td>    0.202</td>\n",
              "</tr>\n",
              "<tr>\n",
              "  <th>Ethnicity</th>                 <td>   -0.0374</td> <td>    0.065</td> <td>   -0.575</td> <td> 0.565</td> <td>   -0.165</td> <td>    0.090</td>\n",
              "</tr>\n",
              "<tr>\n",
              "  <th>EducationLevel</th>            <td>   -0.0880</td> <td>    0.071</td> <td>   -1.242</td> <td> 0.214</td> <td>   -0.227</td> <td>    0.051</td>\n",
              "</tr>\n",
              "<tr>\n",
              "  <th>BMI</th>                       <td>   -0.0044</td> <td>    0.009</td> <td>   -0.493</td> <td> 0.622</td> <td>   -0.022</td> <td>    0.013</td>\n",
              "</tr>\n",
              "<tr>\n",
              "  <th>Smoking</th>                   <td>   -0.2138</td> <td>    0.142</td> <td>   -1.508</td> <td> 0.132</td> <td>   -0.492</td> <td>    0.064</td>\n",
              "</tr>\n",
              "<tr>\n",
              "  <th>AlcoholConsumption</th>        <td>   -0.0087</td> <td>    0.011</td> <td>   -0.792</td> <td> 0.428</td> <td>   -0.030</td> <td>    0.013</td>\n",
              "</tr>\n",
              "<tr>\n",
              "  <th>PhysicalActivity</th>          <td>   -0.0073</td> <td>    0.022</td> <td>   -0.332</td> <td> 0.740</td> <td>   -0.050</td> <td>    0.036</td>\n",
              "</tr>\n",
              "<tr>\n",
              "  <th>DietQuality</th>               <td>    0.0100</td> <td>    0.022</td> <td>    0.452</td> <td> 0.651</td> <td>   -0.033</td> <td>    0.053</td>\n",
              "</tr>\n",
              "<tr>\n",
              "  <th>SleepQuality</th>              <td>   -0.0554</td> <td>    0.036</td> <td>   -1.526</td> <td> 0.127</td> <td>   -0.126</td> <td>    0.016</td>\n",
              "</tr>\n",
              "<tr>\n",
              "  <th>FamilyHistoryAlzheimers</th>   <td>   -0.1106</td> <td>    0.149</td> <td>   -0.745</td> <td> 0.456</td> <td>   -0.402</td> <td>    0.180</td>\n",
              "</tr>\n",
              "<tr>\n",
              "  <th>CardiovascularDisease</th>     <td>    0.1676</td> <td>    0.176</td> <td>    0.952</td> <td> 0.341</td> <td>   -0.178</td> <td>    0.513</td>\n",
              "</tr>\n",
              "<tr>\n",
              "  <th>Diabetes</th>                  <td>    0.0153</td> <td>    0.183</td> <td>    0.084</td> <td> 0.933</td> <td>   -0.343</td> <td>    0.374</td>\n",
              "</tr>\n",
              "<tr>\n",
              "  <th>Depression</th>                <td>    0.0661</td> <td>    0.156</td> <td>    0.423</td> <td> 0.672</td> <td>   -0.240</td> <td>    0.372</td>\n",
              "</tr>\n",
              "<tr>\n",
              "  <th>HeadInjury</th>                <td>   -0.3272</td> <td>    0.222</td> <td>   -1.472</td> <td> 0.141</td> <td>   -0.763</td> <td>    0.109</td>\n",
              "</tr>\n",
              "<tr>\n",
              "  <th>Hypertension</th>              <td>    0.1979</td> <td>    0.178</td> <td>    1.115</td> <td> 0.265</td> <td>   -0.150</td> <td>    0.546</td>\n",
              "</tr>\n",
              "<tr>\n",
              "  <th>SystolicBP</th>                <td>   -0.0007</td> <td>    0.002</td> <td>   -0.289</td> <td> 0.773</td> <td>   -0.006</td> <td>    0.004</td>\n",
              "</tr>\n",
              "<tr>\n",
              "  <th>DiastolicBP</th>               <td>    0.0019</td> <td>    0.004</td> <td>    0.518</td> <td> 0.605</td> <td>   -0.005</td> <td>    0.009</td>\n",
              "</tr>\n",
              "<tr>\n",
              "  <th>CholesterolTotal</th>          <td>    0.0002</td> <td>    0.001</td> <td>    0.158</td> <td> 0.874</td> <td>   -0.003</td> <td>    0.003</td>\n",
              "</tr>\n",
              "<tr>\n",
              "  <th>CholesterolLDL</th>            <td>   -0.0029</td> <td>    0.001</td> <td>   -1.959</td> <td> 0.050</td> <td>   -0.006</td> <td> 1.91e-06</td>\n",
              "</tr>\n",
              "<tr>\n",
              "  <th>CholesterolHDL</th>            <td>    0.0047</td> <td>    0.003</td> <td>    1.719</td> <td> 0.086</td> <td>   -0.001</td> <td>    0.010</td>\n",
              "</tr>\n",
              "<tr>\n",
              "  <th>CholesterolTriglycerides</th>  <td>    0.0007</td> <td>    0.001</td> <td>    1.175</td> <td> 0.240</td> <td>   -0.000</td> <td>    0.002</td>\n",
              "</tr>\n",
              "<tr>\n",
              "  <th>MMSE</th>                      <td>   -0.1071</td> <td>    0.008</td> <td>  -13.073</td> <td> 0.000</td> <td>   -0.123</td> <td>   -0.091</td>\n",
              "</tr>\n",
              "<tr>\n",
              "  <th>FunctionalAssessment</th>      <td>   -0.4482</td> <td>    0.026</td> <td>  -16.916</td> <td> 0.000</td> <td>   -0.500</td> <td>   -0.396</td>\n",
              "</tr>\n",
              "<tr>\n",
              "  <th>MemoryComplaints</th>          <td>    2.5967</td> <td>    0.167</td> <td>   15.574</td> <td> 0.000</td> <td>    2.270</td> <td>    2.924</td>\n",
              "</tr>\n",
              "<tr>\n",
              "  <th>BehavioralProblems</th>        <td>    2.5053</td> <td>    0.185</td> <td>   13.540</td> <td> 0.000</td> <td>    2.143</td> <td>    2.868</td>\n",
              "</tr>\n",
              "<tr>\n",
              "  <th>ADL</th>                       <td>   -0.4216</td> <td>    0.026</td> <td>  -16.221</td> <td> 0.000</td> <td>   -0.473</td> <td>   -0.371</td>\n",
              "</tr>\n",
              "<tr>\n",
              "  <th>Confusion</th>                 <td>   -0.1542</td> <td>    0.160</td> <td>   -0.967</td> <td> 0.334</td> <td>   -0.467</td> <td>    0.158</td>\n",
              "</tr>\n",
              "<tr>\n",
              "  <th>Disorientation</th>            <td>   -0.1206</td> <td>    0.176</td> <td>   -0.687</td> <td> 0.492</td> <td>   -0.465</td> <td>    0.224</td>\n",
              "</tr>\n",
              "<tr>\n",
              "  <th>PersonalityChanges</th>        <td>   -0.0711</td> <td>    0.182</td> <td>   -0.390</td> <td> 0.697</td> <td>   -0.429</td> <td>    0.286</td>\n",
              "</tr>\n",
              "<tr>\n",
              "  <th>DifficultyCompletingTasks</th> <td>    0.1008</td> <td>    0.174</td> <td>    0.579</td> <td> 0.562</td> <td>   -0.240</td> <td>    0.442</td>\n",
              "</tr>\n",
              "<tr>\n",
              "  <th>Forgetfulness</th>             <td>    0.0036</td> <td>    0.139</td> <td>    0.026</td> <td> 0.980</td> <td>   -0.269</td> <td>    0.276</td>\n",
              "</tr>\n",
              "</table>"
            ],
            "text/latex": "\\begin{center}\n\\begin{tabular}{lclc}\n\\toprule\n\\textbf{Dep. Variable:}            &    Diagnosis     & \\textbf{  No. Observations:  } &     2149    \\\\\n\\textbf{Model:}                    &      Logit       & \\textbf{  Df Residuals:      } &     2116    \\\\\n\\textbf{Method:}                   &       MLE        & \\textbf{  Df Model:          } &       32    \\\\\n\\textbf{Date:}                     & Sun, 30 Jun 2024 & \\textbf{  Pseudo R-squ.:     } &   0.4334    \\\\\n\\textbf{Time:}                     &     11:21:55     & \\textbf{  Log-Likelihood:    } &   -791.07   \\\\\n\\textbf{converged:}                &       True       & \\textbf{  LL-Null:           } &   -1396.2   \\\\\n\\textbf{Covariance Type:}          &    nonrobust     & \\textbf{  LLR p-value:       } & 6.854e-234  \\\\\n\\bottomrule\n\\end{tabular}\n\\begin{tabular}{lcccccc}\n                                   & \\textbf{coef} & \\textbf{std err} & \\textbf{z} & \\textbf{P$> |$z$|$} & \\textbf{[0.025} & \\textbf{0.975]}  \\\\\n\\midrule\n\\textbf{const}                     &       5.2976  &        0.969     &     5.467  &         0.000        &        3.398    &        7.197     \\\\\n\\textbf{Age}                       &      -0.0103  &        0.007     &    -1.465  &         0.143        &       -0.024    &        0.003     \\\\\n\\textbf{Gender}                    &      -0.0479  &        0.128     &    -0.375  &         0.707        &       -0.298    &        0.202     \\\\\n\\textbf{Ethnicity}                 &      -0.0374  &        0.065     &    -0.575  &         0.565        &       -0.165    &        0.090     \\\\\n\\textbf{EducationLevel}            &      -0.0880  &        0.071     &    -1.242  &         0.214        &       -0.227    &        0.051     \\\\\n\\textbf{BMI}                       &      -0.0044  &        0.009     &    -0.493  &         0.622        &       -0.022    &        0.013     \\\\\n\\textbf{Smoking}                   &      -0.2138  &        0.142     &    -1.508  &         0.132        &       -0.492    &        0.064     \\\\\n\\textbf{AlcoholConsumption}        &      -0.0087  &        0.011     &    -0.792  &         0.428        &       -0.030    &        0.013     \\\\\n\\textbf{PhysicalActivity}          &      -0.0073  &        0.022     &    -0.332  &         0.740        &       -0.050    &        0.036     \\\\\n\\textbf{DietQuality}               &       0.0100  &        0.022     &     0.452  &         0.651        &       -0.033    &        0.053     \\\\\n\\textbf{SleepQuality}              &      -0.0554  &        0.036     &    -1.526  &         0.127        &       -0.126    &        0.016     \\\\\n\\textbf{FamilyHistoryAlzheimers}   &      -0.1106  &        0.149     &    -0.745  &         0.456        &       -0.402    &        0.180     \\\\\n\\textbf{CardiovascularDisease}     &       0.1676  &        0.176     &     0.952  &         0.341        &       -0.178    &        0.513     \\\\\n\\textbf{Diabetes}                  &       0.0153  &        0.183     &     0.084  &         0.933        &       -0.343    &        0.374     \\\\\n\\textbf{Depression}                &       0.0661  &        0.156     &     0.423  &         0.672        &       -0.240    &        0.372     \\\\\n\\textbf{HeadInjury}                &      -0.3272  &        0.222     &    -1.472  &         0.141        &       -0.763    &        0.109     \\\\\n\\textbf{Hypertension}              &       0.1979  &        0.178     &     1.115  &         0.265        &       -0.150    &        0.546     \\\\\n\\textbf{SystolicBP}                &      -0.0007  &        0.002     &    -0.289  &         0.773        &       -0.006    &        0.004     \\\\\n\\textbf{DiastolicBP}               &       0.0019  &        0.004     &     0.518  &         0.605        &       -0.005    &        0.009     \\\\\n\\textbf{CholesterolTotal}          &       0.0002  &        0.001     &     0.158  &         0.874        &       -0.003    &        0.003     \\\\\n\\textbf{CholesterolLDL}            &      -0.0029  &        0.001     &    -1.959  &         0.050        &       -0.006    &     1.91e-06     \\\\\n\\textbf{CholesterolHDL}            &       0.0047  &        0.003     &     1.719  &         0.086        &       -0.001    &        0.010     \\\\\n\\textbf{CholesterolTriglycerides}  &       0.0007  &        0.001     &     1.175  &         0.240        &       -0.000    &        0.002     \\\\\n\\textbf{MMSE}                      &      -0.1071  &        0.008     &   -13.073  &         0.000        &       -0.123    &       -0.091     \\\\\n\\textbf{FunctionalAssessment}      &      -0.4482  &        0.026     &   -16.916  &         0.000        &       -0.500    &       -0.396     \\\\\n\\textbf{MemoryComplaints}          &       2.5967  &        0.167     &    15.574  &         0.000        &        2.270    &        2.924     \\\\\n\\textbf{BehavioralProblems}        &       2.5053  &        0.185     &    13.540  &         0.000        &        2.143    &        2.868     \\\\\n\\textbf{ADL}                       &      -0.4216  &        0.026     &   -16.221  &         0.000        &       -0.473    &       -0.371     \\\\\n\\textbf{Confusion}                 &      -0.1542  &        0.160     &    -0.967  &         0.334        &       -0.467    &        0.158     \\\\\n\\textbf{Disorientation}            &      -0.1206  &        0.176     &    -0.687  &         0.492        &       -0.465    &        0.224     \\\\\n\\textbf{PersonalityChanges}        &      -0.0711  &        0.182     &    -0.390  &         0.697        &       -0.429    &        0.286     \\\\\n\\textbf{DifficultyCompletingTasks} &       0.1008  &        0.174     &     0.579  &         0.562        &       -0.240    &        0.442     \\\\\n\\textbf{Forgetfulness}             &       0.0036  &        0.139     &     0.026  &         0.980        &       -0.269    &        0.276     \\\\\n\\bottomrule\n\\end{tabular}\n%\\caption{Logit Regression Results}\n\\end{center}"
          },
          "metadata": {},
          "execution_count": 28
        }
      ]
    },
    {
      "cell_type": "markdown",
      "source": [
        "This model has a relatively low pseudo R-squared, only able to explain 43% of the values. However, a very low LLR p-value indicates statistical significance of results\n",
        "\n",
        "Of all the variables included, only the constant and measurements of cognitive and functional abilities are statistically significant, with p-values of 0. This is consistent with results of the analysis above\n",
        "\n",
        "All other factors can therefore be removed from the model"
      ],
      "metadata": {
        "id": "XlT-h3AgEj75"
      }
    },
    {
      "cell_type": "code",
      "source": [
        "#remove statistically insignificant variables + evaluate model\n",
        "from sklearn.model_selection import train_test_split\n",
        "x = data[['MMSE', 'FunctionalAssessment', 'MemoryComplaints', 'BehavioralProblems', 'ADL']]\n",
        "y = data['Diagnosis']\n",
        "x_train, x_test, y_train, y_test = train_test_split(x, y, test_size=0.2)\n",
        "x_train = sm.add_constant(x_train)\n",
        "x_test = sm.add_constant(x_test)\n",
        "model = sm.Logit(y_train, x_train).fit()\n",
        "model.summary()"
      ],
      "metadata": {
        "colab": {
          "base_uri": "https://localhost:8080/",
          "height": 389
        },
        "id": "FnzRCY_iNADt",
        "outputId": "d1b3d942-90ae-4436-9e8b-0c79e44ca926"
      },
      "execution_count": 29,
      "outputs": [
        {
          "output_type": "stream",
          "name": "stdout",
          "text": [
            "Optimization terminated successfully.\n",
            "         Current function value: 0.371441\n",
            "         Iterations 7\n"
          ]
        },
        {
          "output_type": "execute_result",
          "data": {
            "text/plain": [
              "<class 'statsmodels.iolib.summary.Summary'>\n",
              "\"\"\"\n",
              "                           Logit Regression Results                           \n",
              "==============================================================================\n",
              "Dep. Variable:              Diagnosis   No. Observations:                 1719\n",
              "Model:                          Logit   Df Residuals:                     1713\n",
              "Method:                           MLE   Df Model:                            5\n",
              "Date:                Sun, 30 Jun 2024   Pseudo R-squ.:                  0.4274\n",
              "Time:                        11:22:08   Log-Likelihood:                -638.51\n",
              "converged:                       True   LL-Null:                       -1115.0\n",
              "Covariance Type:            nonrobust   LLR p-value:                8.863e-204\n",
              "========================================================================================\n",
              "                           coef    std err          z      P>|z|      [0.025      0.975]\n",
              "----------------------------------------------------------------------------------------\n",
              "const                    3.8896      0.260     14.982      0.000       3.381       4.398\n",
              "MMSE                    -0.1115      0.009    -12.183      0.000      -0.129      -0.094\n",
              "FunctionalAssessment    -0.4314      0.029    -14.944      0.000      -0.488      -0.375\n",
              "MemoryComplaints         2.6586      0.189     14.078      0.000       2.288       3.029\n",
              "BehavioralProblems       2.5279      0.202     12.539      0.000       2.133       2.923\n",
              "ADL                     -0.4235      0.029    -14.542      0.000      -0.481      -0.366\n",
              "========================================================================================\n",
              "\"\"\""
            ],
            "text/html": [
              "<table class=\"simpletable\">\n",
              "<caption>Logit Regression Results</caption>\n",
              "<tr>\n",
              "  <th>Dep. Variable:</th>       <td>Diagnosis</td>    <th>  No. Observations:  </th>   <td>  1719</td>  \n",
              "</tr>\n",
              "<tr>\n",
              "  <th>Model:</th>                 <td>Logit</td>      <th>  Df Residuals:      </th>   <td>  1713</td>  \n",
              "</tr>\n",
              "<tr>\n",
              "  <th>Method:</th>                 <td>MLE</td>       <th>  Df Model:          </th>   <td>     5</td>  \n",
              "</tr>\n",
              "<tr>\n",
              "  <th>Date:</th>            <td>Sun, 30 Jun 2024</td> <th>  Pseudo R-squ.:     </th>   <td>0.4274</td>  \n",
              "</tr>\n",
              "<tr>\n",
              "  <th>Time:</th>                <td>11:22:08</td>     <th>  Log-Likelihood:    </th>  <td> -638.51</td> \n",
              "</tr>\n",
              "<tr>\n",
              "  <th>converged:</th>             <td>True</td>       <th>  LL-Null:           </th>  <td> -1115.0</td> \n",
              "</tr>\n",
              "<tr>\n",
              "  <th>Covariance Type:</th>     <td>nonrobust</td>    <th>  LLR p-value:       </th> <td>8.863e-204</td>\n",
              "</tr>\n",
              "</table>\n",
              "<table class=\"simpletable\">\n",
              "<tr>\n",
              "            <td></td>              <th>coef</th>     <th>std err</th>      <th>z</th>      <th>P>|z|</th>  <th>[0.025</th>    <th>0.975]</th>  \n",
              "</tr>\n",
              "<tr>\n",
              "  <th>const</th>                <td>    3.8896</td> <td>    0.260</td> <td>   14.982</td> <td> 0.000</td> <td>    3.381</td> <td>    4.398</td>\n",
              "</tr>\n",
              "<tr>\n",
              "  <th>MMSE</th>                 <td>   -0.1115</td> <td>    0.009</td> <td>  -12.183</td> <td> 0.000</td> <td>   -0.129</td> <td>   -0.094</td>\n",
              "</tr>\n",
              "<tr>\n",
              "  <th>FunctionalAssessment</th> <td>   -0.4314</td> <td>    0.029</td> <td>  -14.944</td> <td> 0.000</td> <td>   -0.488</td> <td>   -0.375</td>\n",
              "</tr>\n",
              "<tr>\n",
              "  <th>MemoryComplaints</th>     <td>    2.6586</td> <td>    0.189</td> <td>   14.078</td> <td> 0.000</td> <td>    2.288</td> <td>    3.029</td>\n",
              "</tr>\n",
              "<tr>\n",
              "  <th>BehavioralProblems</th>   <td>    2.5279</td> <td>    0.202</td> <td>   12.539</td> <td> 0.000</td> <td>    2.133</td> <td>    2.923</td>\n",
              "</tr>\n",
              "<tr>\n",
              "  <th>ADL</th>                  <td>   -0.4235</td> <td>    0.029</td> <td>  -14.542</td> <td> 0.000</td> <td>   -0.481</td> <td>   -0.366</td>\n",
              "</tr>\n",
              "</table>"
            ],
            "text/latex": "\\begin{center}\n\\begin{tabular}{lclc}\n\\toprule\n\\textbf{Dep. Variable:}       &    Diagnosis     & \\textbf{  No. Observations:  } &     1719    \\\\\n\\textbf{Model:}               &      Logit       & \\textbf{  Df Residuals:      } &     1713    \\\\\n\\textbf{Method:}              &       MLE        & \\textbf{  Df Model:          } &        5    \\\\\n\\textbf{Date:}                & Sun, 30 Jun 2024 & \\textbf{  Pseudo R-squ.:     } &   0.4274    \\\\\n\\textbf{Time:}                &     11:22:08     & \\textbf{  Log-Likelihood:    } &   -638.51   \\\\\n\\textbf{converged:}           &       True       & \\textbf{  LL-Null:           } &   -1115.0   \\\\\n\\textbf{Covariance Type:}     &    nonrobust     & \\textbf{  LLR p-value:       } & 8.863e-204  \\\\\n\\bottomrule\n\\end{tabular}\n\\begin{tabular}{lcccccc}\n                              & \\textbf{coef} & \\textbf{std err} & \\textbf{z} & \\textbf{P$> |$z$|$} & \\textbf{[0.025} & \\textbf{0.975]}  \\\\\n\\midrule\n\\textbf{const}                &       3.8896  &        0.260     &    14.982  &         0.000        &        3.381    &        4.398     \\\\\n\\textbf{MMSE}                 &      -0.1115  &        0.009     &   -12.183  &         0.000        &       -0.129    &       -0.094     \\\\\n\\textbf{FunctionalAssessment} &      -0.4314  &        0.029     &   -14.944  &         0.000        &       -0.488    &       -0.375     \\\\\n\\textbf{MemoryComplaints}     &       2.6586  &        0.189     &    14.078  &         0.000        &        2.288    &        3.029     \\\\\n\\textbf{BehavioralProblems}   &       2.5279  &        0.202     &    12.539  &         0.000        &        2.133    &        2.923     \\\\\n\\textbf{ADL}                  &      -0.4235  &        0.029     &   -14.542  &         0.000        &       -0.481    &       -0.366     \\\\\n\\bottomrule\n\\end{tabular}\n%\\caption{Logit Regression Results}\n\\end{center}"
          },
          "metadata": {},
          "execution_count": 29
        }
      ]
    },
    {
      "cell_type": "markdown",
      "source": [
        "The new model has a similar pseudo R-squared and a very low LLR p-value\n",
        "\n",
        "1. Constant: Positive coefficient, meaning everyone, regardless of environmental factors and individual differences, has a chance of having Alzheimer's\n",
        "\n",
        "2. MMSE: A low MMSE score increases chance of having Alzheimer's\n",
        "\n",
        "3. FunctionalAssessment: A low functional assessment score increases chance of having Alzheimer's\n",
        "\n",
        "4. MemoryComplaints: Presence of memory complaints increases chance of having Alzheimer's\n",
        "\n",
        "5. BehavioralComplaints: Presence of behavioral complaints increases chance of having Alzheimer's\n",
        "\n",
        "6. ADL: A low ADL score increases chance of having Alzheimer's\n",
        "\n",
        "These results are consistent with the result of analysis above"
      ],
      "metadata": {
        "id": "98ahS7odFpn5"
      }
    },
    {
      "cell_type": "code",
      "source": [
        "#testing using seperated x_test and y_test\n",
        "predictions = model.predict(x_test)\n",
        "predicted_diagnosis = np.where(predictions > 0.5, 1, 0)\n",
        "print(f'Predicted results: {predicted_diagnosis}')\n",
        "print(f'Acurracy: {np.mean(predicted_diagnosis == y_test)}')"
      ],
      "metadata": {
        "colab": {
          "base_uri": "https://localhost:8080/"
        },
        "id": "rFu66vNGOoKp",
        "outputId": "11b011e1-ee21-40f6-d6fc-3698966942df"
      },
      "execution_count": 30,
      "outputs": [
        {
          "output_type": "stream",
          "name": "stdout",
          "text": [
            "Predicted results: [0 0 1 1 0 0 0 0 0 0 0 0 0 1 0 1 0 1 1 0 0 1 0 0 0 0 0 0 0 1 1 1 0 0 0 0 1\n",
            " 0 1 0 0 0 1 0 1 1 1 0 0 1 0 1 0 0 1 1 0 1 0 0 0 1 0 0 0 0 1 1 0 0 1 0 1 1\n",
            " 0 0 0 0 0 0 0 1 0 0 1 0 0 1 0 0 1 1 0 1 0 1 0 1 0 0 1 1 1 0 0 0 0 0 1 1 1\n",
            " 1 0 0 0 0 1 1 0 0 1 0 1 1 0 0 1 1 1 0 1 0 1 0 0 1 1 1 1 0 1 0 0 0 0 0 0 1\n",
            " 1 1 0 1 1 0 0 0 0 0 0 1 0 1 0 1 1 0 1 0 0 0 0 1 0 0 0 0 0 0 1 1 0 1 0 0 0\n",
            " 0 1 0 1 1 0 0 0 1 0 0 0 0 1 0 0 0 1 0 1 1 1 0 1 0 0 0 0 0 0 0 0 0 1 0 1 0\n",
            " 1 1 0 0 0 1 1 0 0 0 0 1 1 0 1 0 0 1 0 0 0 0 0 0 0 0 0 1 0 0 0 0 0 0 1 1 0\n",
            " 0 0 0 0 0 0 1 1 0 1 1 1 0 0 0 1 1 1 0 1 0 0 1 1 1 1 0 0 0 0 0 0 0 0 1 0 0\n",
            " 0 1 1 1 0 0 1 1 0 0 0 1 0 1 0 0 0 1 1 0 0 0 0 1 0 0 0 0 0 0 1 1 1 0 0 0 0\n",
            " 0 0 1 1 0 0 1 0 1 0 1 0 0 0 0 0 1 1 1 0 1 1 0 1 0 0 0 0 1 0 0 1 0 1 0 0 0\n",
            " 1 0 0 0 1 0 1 1 0 0 1 0 0 0 0 1 0 1 0 1 0 0 0 0 1 0 0 0 0 0 1 0 0 0 0 0 0\n",
            " 0 0 0 0 0 1 0 0 1 0 1 0 0 0 1 0 1 1 0 0 0 0 0]\n",
            "Acurracy: 0.8558139534883721\n"
          ]
        }
      ]
    },
    {
      "cell_type": "markdown",
      "source": [
        "Despite a low pseudo R-squared (meaning other factors should also be considered), a model using the factors present in the dataset is capable of diagnosing Alzheimer's Disease with over 80% accuracy"
      ],
      "metadata": {
        "id": "OiP1jxDdHBR_"
      }
    },
    {
      "cell_type": "markdown",
      "source": [
        "##Conclusion"
      ],
      "metadata": {
        "id": "CeqkOiOFXARD"
      }
    },
    {
      "cell_type": "markdown",
      "source": [
        "Alzheimer's Disease greatly hinders a person's ability to regulate their own lives, with symptoms including confusion, memory complaints and personality changes (and more)\n",
        "\n",
        "From the data of this dataset, the most reliable way to diagnose Alzheimer's is through cognitive and functional assessment\n",
        "\n",
        "While there are some interesting differences in other factors, there is little evidence to conclude they could be considered in the diagnosis\n",
        "\n",
        "As the model only explains about 50% of the data, more research into other factors could make this model more accurate and reliable"
      ],
      "metadata": {
        "id": "6JEh4hUuXBnM"
      }
    }
  ]
}